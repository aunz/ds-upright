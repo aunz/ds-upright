{
  "nbformat": 4,
  "nbformat_minor": 0,
  "metadata": {
    "colab": {
      "name": "Insight Data Challenge",
      "version": "0.3.2",
      "provenance": [],
      "collapsed_sections": [],
      "include_colab_link": true
    },
    "kernelspec": {
      "name": "python3",
      "display_name": "Python 3"
    }
  },
  "cells": [
    {
      "cell_type": "markdown",
      "metadata": {
        "id": "view-in-github",
        "colab_type": "text"
      },
      "source": [
        "<a href=\"https://colab.research.google.com/github/aunz/ds-upright/blob/master/Insight_Data_Challenge.ipynb\" target=\"_parent\"><img src=\"https://colab.research.google.com/assets/colab-badge.svg\" alt=\"Open In Colab\"/></a>"
      ]
    },
    {
      "metadata": {
        "id": "Q4j7YFlYdzx1",
        "colab_type": "text"
      },
      "cell_type": "markdown",
      "source": [
        "# Introduction\n",
        "\n",
        "This notebook is part of [Insight](http://insightdatascience.com/) Data Challenge exercise\n",
        "\n",
        "## Data\n",
        "\n",
        "Breast Cancer Wisconsin (Original) Data Set\n",
        "\n",
        "https://archive.ics.uci.edu/ml/datasets/Breast+Cancer+Wisconsin+(Original)"
      ]
    },
    {
      "metadata": {
        "id": "v358sZtBdqDG",
        "colab_type": "code",
        "colab": {}
      },
      "cell_type": "code",
      "source": [
        "import numpy as np # basic array/math manipulation\n",
        "import pandas as pd # dataframe\n",
        "\n",
        "\n",
        "import matplotlib.pyplot as plt # plotting\n",
        "import seaborn as sns"
      ],
      "execution_count": 0,
      "outputs": []
    },
    {
      "metadata": {
        "id": "9koWBVoVdy3u",
        "colab_type": "code",
        "colab": {
          "base_uri": "https://localhost:8080/",
          "height": 238
        },
        "outputId": "7bb7bfa0-1140-43f6-fd08-c407940eb551"
      },
      "cell_type": "code",
      "source": [
        "data = pd.read_csv(\n",
        "    'https://archive.ics.uci.edu/ml/machine-learning-databases/breast-cancer-wisconsin/breast-cancer-wisconsin.data',\n",
        "    header=None,\n",
        "    names=['id', 'thickness', 'size', 'shape', 'adhesion', 'cell_size', 'nuclei', 'chromatin', 'nucleoli', 'mitoses', 'class'],\n",
        "    index_col=0\n",
        ")\n",
        "\n",
        "data.head()"
      ],
      "execution_count": 138,
      "outputs": [
        {
          "output_type": "execute_result",
          "data": {
            "text/html": [
              "<div>\n",
              "<style scoped>\n",
              "    .dataframe tbody tr th:only-of-type {\n",
              "        vertical-align: middle;\n",
              "    }\n",
              "\n",
              "    .dataframe tbody tr th {\n",
              "        vertical-align: top;\n",
              "    }\n",
              "\n",
              "    .dataframe thead th {\n",
              "        text-align: right;\n",
              "    }\n",
              "</style>\n",
              "<table border=\"1\" class=\"dataframe\">\n",
              "  <thead>\n",
              "    <tr style=\"text-align: right;\">\n",
              "      <th></th>\n",
              "      <th>thickness</th>\n",
              "      <th>size</th>\n",
              "      <th>shape</th>\n",
              "      <th>adhesion</th>\n",
              "      <th>cell_size</th>\n",
              "      <th>nuclei</th>\n",
              "      <th>chromatin</th>\n",
              "      <th>nucleoli</th>\n",
              "      <th>mitoses</th>\n",
              "      <th>class</th>\n",
              "    </tr>\n",
              "    <tr>\n",
              "      <th>id</th>\n",
              "      <th></th>\n",
              "      <th></th>\n",
              "      <th></th>\n",
              "      <th></th>\n",
              "      <th></th>\n",
              "      <th></th>\n",
              "      <th></th>\n",
              "      <th></th>\n",
              "      <th></th>\n",
              "      <th></th>\n",
              "    </tr>\n",
              "  </thead>\n",
              "  <tbody>\n",
              "    <tr>\n",
              "      <th>1000025</th>\n",
              "      <td>5</td>\n",
              "      <td>1</td>\n",
              "      <td>1</td>\n",
              "      <td>1</td>\n",
              "      <td>2</td>\n",
              "      <td>1</td>\n",
              "      <td>3</td>\n",
              "      <td>1</td>\n",
              "      <td>1</td>\n",
              "      <td>2</td>\n",
              "    </tr>\n",
              "    <tr>\n",
              "      <th>1002945</th>\n",
              "      <td>5</td>\n",
              "      <td>4</td>\n",
              "      <td>4</td>\n",
              "      <td>5</td>\n",
              "      <td>7</td>\n",
              "      <td>10</td>\n",
              "      <td>3</td>\n",
              "      <td>2</td>\n",
              "      <td>1</td>\n",
              "      <td>2</td>\n",
              "    </tr>\n",
              "    <tr>\n",
              "      <th>1015425</th>\n",
              "      <td>3</td>\n",
              "      <td>1</td>\n",
              "      <td>1</td>\n",
              "      <td>1</td>\n",
              "      <td>2</td>\n",
              "      <td>2</td>\n",
              "      <td>3</td>\n",
              "      <td>1</td>\n",
              "      <td>1</td>\n",
              "      <td>2</td>\n",
              "    </tr>\n",
              "    <tr>\n",
              "      <th>1016277</th>\n",
              "      <td>6</td>\n",
              "      <td>8</td>\n",
              "      <td>8</td>\n",
              "      <td>1</td>\n",
              "      <td>3</td>\n",
              "      <td>4</td>\n",
              "      <td>3</td>\n",
              "      <td>7</td>\n",
              "      <td>1</td>\n",
              "      <td>2</td>\n",
              "    </tr>\n",
              "    <tr>\n",
              "      <th>1017023</th>\n",
              "      <td>4</td>\n",
              "      <td>1</td>\n",
              "      <td>1</td>\n",
              "      <td>3</td>\n",
              "      <td>2</td>\n",
              "      <td>1</td>\n",
              "      <td>3</td>\n",
              "      <td>1</td>\n",
              "      <td>1</td>\n",
              "      <td>2</td>\n",
              "    </tr>\n",
              "  </tbody>\n",
              "</table>\n",
              "</div>"
            ],
            "text/plain": [
              "         thickness  size  shape  adhesion  cell_size nuclei  chromatin  \\\n",
              "id                                                                       \n",
              "1000025          5     1      1         1          2      1          3   \n",
              "1002945          5     4      4         5          7     10          3   \n",
              "1015425          3     1      1         1          2      2          3   \n",
              "1016277          6     8      8         1          3      4          3   \n",
              "1017023          4     1      1         3          2      1          3   \n",
              "\n",
              "         nucleoli  mitoses  class  \n",
              "id                                 \n",
              "1000025         1        1      2  \n",
              "1002945         2        1      2  \n",
              "1015425         1        1      2  \n",
              "1016277         7        1      2  \n",
              "1017023         1        1      2  "
            ]
          },
          "metadata": {
            "tags": []
          },
          "execution_count": 138
        }
      ]
    },
    {
      "metadata": {
        "id": "F3D1lju6gSwr",
        "colab_type": "text"
      },
      "cell_type": "markdown",
      "source": [
        "## Exploratory analysis\n",
        "\n",
        "The dataset contains 699 observations (instances) and 10 variables (features)"
      ]
    },
    {
      "metadata": {
        "id": "oYvR1BjzdzDK",
        "colab_type": "code",
        "colab": {
          "base_uri": "https://localhost:8080/",
          "height": 531
        },
        "outputId": "a5d44cfa-2647-4709-c024-0df2d8711efe"
      },
      "cell_type": "code",
      "source": [
        "print(data.info())"
      ],
      "execution_count": 28,
      "outputs": [
        {
          "output_type": "stream",
          "text": [
            "<class 'pandas.core.frame.DataFrame'>\n",
            "Int64Index: 699 entries, 1000025 to 897471\n",
            "Data columns (total 10 columns):\n",
            "thickness    699 non-null int64\n",
            "size         699 non-null int64\n",
            "shape        699 non-null int64\n",
            "adhesion     699 non-null int64\n",
            "cell_size    699 non-null int64\n",
            "nuclei       699 non-null object\n",
            "chromatin    699 non-null int64\n",
            "nucleoli     699 non-null int64\n",
            "mitoses      699 non-null int64\n",
            "class        699 non-null int64\n",
            "dtypes: int64(9), object(1)\n",
            "memory usage: 60.1+ KB\n",
            "None\n",
            "1     402\n",
            "10    132\n",
            "2      30\n",
            "5      30\n",
            "3      28\n",
            "8      21\n",
            "4      19\n",
            "?      16\n",
            "9       9\n",
            "7       8\n",
            "6       4\n",
            "Name: nuclei, dtype: int64\n"
          ],
          "name": "stdout"
        }
      ]
    },
    {
      "metadata": {
        "id": "hEf-6eHKiiHE",
        "colab_type": "text"
      },
      "cell_type": "markdown",
      "source": [
        "These variables are supposed to be all int according. Howerver, nuclei is an object.\n",
        "\n",
        "16 of them are missing, denoated by ?\n",
        "\n",
        "We are going to convert it to 1 for now (1 is the most common)\n",
        "\n"
      ]
    },
    {
      "metadata": {
        "id": "WF0Gzx6RdzN4",
        "colab_type": "code",
        "colab": {
          "base_uri": "https://localhost:8080/",
          "height": 219
        },
        "outputId": "083b6d08-5163-4e92-ed94-d7f62b05065d"
      },
      "cell_type": "code",
      "source": [
        "nuclei_ori = data['nuclei'].copy() # make an original copy in case we need to change it later\n",
        "\n",
        "data['nuclei'] = data['nuclei'].replace('?', 1).astype(int)\n",
        "data['nuclei'].value_counts().sort_index()"
      ],
      "execution_count": 139,
      "outputs": [
        {
          "output_type": "execute_result",
          "data": {
            "text/plain": [
              "1     418\n",
              "2      30\n",
              "3      28\n",
              "4      19\n",
              "5      30\n",
              "6       4\n",
              "7       8\n",
              "8      21\n",
              "9       9\n",
              "10    132\n",
              "Name: nuclei, dtype: int64"
            ]
          },
          "metadata": {
            "tags": []
          },
          "execution_count": 139
        }
      ]
    },
    {
      "metadata": {
        "id": "nn4tpFlGmyNG",
        "colab_type": "text"
      },
      "cell_type": "markdown",
      "source": [
        "## Target variable\n",
        "\n",
        "Class: 2 for benign, 4 for malignant\n",
        "\n",
        "We want to recategorise benign to 0, malignant to 1 (for classification later)"
      ]
    },
    {
      "metadata": {
        "id": "kRPN--e6m9Bk",
        "colab_type": "code",
        "colab": {}
      },
      "cell_type": "code",
      "source": [
        "data['class'] = data['class'].replace({ 2: 0, 4: 1 })"
      ],
      "execution_count": 0,
      "outputs": []
    },
    {
      "metadata": {
        "id": "MGlWnakEdzXD",
        "colab_type": "code",
        "colab": {
          "base_uri": "https://localhost:8080/",
          "height": 394
        },
        "outputId": "74df3be7-6f8a-4af2-db87-23523f1e4a31"
      },
      "cell_type": "code",
      "source": [
        "pd.concat([data[i].value_counts() for i in data.columns], 1)"
      ],
      "execution_count": 141,
      "outputs": [
        {
          "output_type": "execute_result",
          "data": {
            "text/html": [
              "<div>\n",
              "<style scoped>\n",
              "    .dataframe tbody tr th:only-of-type {\n",
              "        vertical-align: middle;\n",
              "    }\n",
              "\n",
              "    .dataframe tbody tr th {\n",
              "        vertical-align: top;\n",
              "    }\n",
              "\n",
              "    .dataframe thead th {\n",
              "        text-align: right;\n",
              "    }\n",
              "</style>\n",
              "<table border=\"1\" class=\"dataframe\">\n",
              "  <thead>\n",
              "    <tr style=\"text-align: right;\">\n",
              "      <th></th>\n",
              "      <th>thickness</th>\n",
              "      <th>size</th>\n",
              "      <th>shape</th>\n",
              "      <th>adhesion</th>\n",
              "      <th>cell_size</th>\n",
              "      <th>nuclei</th>\n",
              "      <th>chromatin</th>\n",
              "      <th>nucleoli</th>\n",
              "      <th>mitoses</th>\n",
              "      <th>class</th>\n",
              "    </tr>\n",
              "  </thead>\n",
              "  <tbody>\n",
              "    <tr>\n",
              "      <th>0</th>\n",
              "      <td>NaN</td>\n",
              "      <td>NaN</td>\n",
              "      <td>NaN</td>\n",
              "      <td>NaN</td>\n",
              "      <td>NaN</td>\n",
              "      <td>NaN</td>\n",
              "      <td>NaN</td>\n",
              "      <td>NaN</td>\n",
              "      <td>NaN</td>\n",
              "      <td>458.0</td>\n",
              "    </tr>\n",
              "    <tr>\n",
              "      <th>1</th>\n",
              "      <td>145.0</td>\n",
              "      <td>384.0</td>\n",
              "      <td>353.0</td>\n",
              "      <td>407.0</td>\n",
              "      <td>47.0</td>\n",
              "      <td>418.0</td>\n",
              "      <td>152.0</td>\n",
              "      <td>443.0</td>\n",
              "      <td>579.0</td>\n",
              "      <td>241.0</td>\n",
              "    </tr>\n",
              "    <tr>\n",
              "      <th>2</th>\n",
              "      <td>50.0</td>\n",
              "      <td>45.0</td>\n",
              "      <td>59.0</td>\n",
              "      <td>58.0</td>\n",
              "      <td>386.0</td>\n",
              "      <td>30.0</td>\n",
              "      <td>166.0</td>\n",
              "      <td>36.0</td>\n",
              "      <td>35.0</td>\n",
              "      <td>NaN</td>\n",
              "    </tr>\n",
              "    <tr>\n",
              "      <th>3</th>\n",
              "      <td>108.0</td>\n",
              "      <td>52.0</td>\n",
              "      <td>56.0</td>\n",
              "      <td>58.0</td>\n",
              "      <td>72.0</td>\n",
              "      <td>28.0</td>\n",
              "      <td>165.0</td>\n",
              "      <td>44.0</td>\n",
              "      <td>33.0</td>\n",
              "      <td>NaN</td>\n",
              "    </tr>\n",
              "    <tr>\n",
              "      <th>4</th>\n",
              "      <td>80.0</td>\n",
              "      <td>40.0</td>\n",
              "      <td>44.0</td>\n",
              "      <td>33.0</td>\n",
              "      <td>48.0</td>\n",
              "      <td>19.0</td>\n",
              "      <td>40.0</td>\n",
              "      <td>18.0</td>\n",
              "      <td>12.0</td>\n",
              "      <td>NaN</td>\n",
              "    </tr>\n",
              "    <tr>\n",
              "      <th>5</th>\n",
              "      <td>130.0</td>\n",
              "      <td>30.0</td>\n",
              "      <td>34.0</td>\n",
              "      <td>23.0</td>\n",
              "      <td>39.0</td>\n",
              "      <td>30.0</td>\n",
              "      <td>34.0</td>\n",
              "      <td>19.0</td>\n",
              "      <td>6.0</td>\n",
              "      <td>NaN</td>\n",
              "    </tr>\n",
              "    <tr>\n",
              "      <th>6</th>\n",
              "      <td>34.0</td>\n",
              "      <td>27.0</td>\n",
              "      <td>30.0</td>\n",
              "      <td>22.0</td>\n",
              "      <td>41.0</td>\n",
              "      <td>4.0</td>\n",
              "      <td>10.0</td>\n",
              "      <td>22.0</td>\n",
              "      <td>3.0</td>\n",
              "      <td>NaN</td>\n",
              "    </tr>\n",
              "    <tr>\n",
              "      <th>7</th>\n",
              "      <td>23.0</td>\n",
              "      <td>19.0</td>\n",
              "      <td>30.0</td>\n",
              "      <td>13.0</td>\n",
              "      <td>12.0</td>\n",
              "      <td>8.0</td>\n",
              "      <td>73.0</td>\n",
              "      <td>16.0</td>\n",
              "      <td>9.0</td>\n",
              "      <td>NaN</td>\n",
              "    </tr>\n",
              "    <tr>\n",
              "      <th>8</th>\n",
              "      <td>46.0</td>\n",
              "      <td>29.0</td>\n",
              "      <td>28.0</td>\n",
              "      <td>25.0</td>\n",
              "      <td>21.0</td>\n",
              "      <td>21.0</td>\n",
              "      <td>28.0</td>\n",
              "      <td>24.0</td>\n",
              "      <td>8.0</td>\n",
              "      <td>NaN</td>\n",
              "    </tr>\n",
              "    <tr>\n",
              "      <th>9</th>\n",
              "      <td>14.0</td>\n",
              "      <td>6.0</td>\n",
              "      <td>7.0</td>\n",
              "      <td>5.0</td>\n",
              "      <td>2.0</td>\n",
              "      <td>9.0</td>\n",
              "      <td>11.0</td>\n",
              "      <td>16.0</td>\n",
              "      <td>NaN</td>\n",
              "      <td>NaN</td>\n",
              "    </tr>\n",
              "    <tr>\n",
              "      <th>10</th>\n",
              "      <td>69.0</td>\n",
              "      <td>67.0</td>\n",
              "      <td>58.0</td>\n",
              "      <td>55.0</td>\n",
              "      <td>31.0</td>\n",
              "      <td>132.0</td>\n",
              "      <td>20.0</td>\n",
              "      <td>61.0</td>\n",
              "      <td>14.0</td>\n",
              "      <td>NaN</td>\n",
              "    </tr>\n",
              "  </tbody>\n",
              "</table>\n",
              "</div>"
            ],
            "text/plain": [
              "    thickness   size  shape  adhesion  cell_size  nuclei  chromatin  nucleoli  \\\n",
              "0         NaN    NaN    NaN       NaN        NaN     NaN        NaN       NaN   \n",
              "1       145.0  384.0  353.0     407.0       47.0   418.0      152.0     443.0   \n",
              "2        50.0   45.0   59.0      58.0      386.0    30.0      166.0      36.0   \n",
              "3       108.0   52.0   56.0      58.0       72.0    28.0      165.0      44.0   \n",
              "4        80.0   40.0   44.0      33.0       48.0    19.0       40.0      18.0   \n",
              "5       130.0   30.0   34.0      23.0       39.0    30.0       34.0      19.0   \n",
              "6        34.0   27.0   30.0      22.0       41.0     4.0       10.0      22.0   \n",
              "7        23.0   19.0   30.0      13.0       12.0     8.0       73.0      16.0   \n",
              "8        46.0   29.0   28.0      25.0       21.0    21.0       28.0      24.0   \n",
              "9        14.0    6.0    7.0       5.0        2.0     9.0       11.0      16.0   \n",
              "10       69.0   67.0   58.0      55.0       31.0   132.0       20.0      61.0   \n",
              "\n",
              "    mitoses  class  \n",
              "0       NaN  458.0  \n",
              "1     579.0  241.0  \n",
              "2      35.0    NaN  \n",
              "3      33.0    NaN  \n",
              "4      12.0    NaN  \n",
              "5       6.0    NaN  \n",
              "6       3.0    NaN  \n",
              "7       9.0    NaN  \n",
              "8       8.0    NaN  \n",
              "9       NaN    NaN  \n",
              "10     14.0    NaN  "
            ]
          },
          "metadata": {
            "tags": []
          },
          "execution_count": 141
        }
      ]
    },
    {
      "metadata": {
        "id": "KAdaBJL_pwZm",
        "colab_type": "text"
      },
      "cell_type": "markdown",
      "source": [
        "### Correlation \n",
        "\n",
        "Uniformity of size and shape are highly correlated.\n",
        "\n",
        "Class 1 (maglinant) is also highly with uniformity of cell size, shape, nuclei; least with mitoses"
      ]
    },
    {
      "metadata": {
        "id": "Z8n2hdctnnoW",
        "colab_type": "code",
        "colab": {
          "base_uri": "https://localhost:8080/",
          "height": 574
        },
        "outputId": "7214da76-9249-44fb-cae0-0bff5c9fbec8"
      },
      "cell_type": "code",
      "source": [
        "plt.figure(figsize=(10, 10))\n",
        "sns.heatmap(data.corr(), center=0, square=True, linewidths=.5, annot=True, fmt='.2f');"
      ],
      "execution_count": 142,
      "outputs": [
        {
          "output_type": "display_data",
          "data": {
            "image/png": "[encoded data removed]",
            "text/plain": [
              "<Figure size 720x720 with 2 Axes>"
            ]
          },
          "metadata": {
            "tags": []
          }
        }
      ]
    },
    {
      "metadata": {
        "id": "pyPKEBo2nfp5",
        "colab_type": "code",
        "colab": {
          "base_uri": "https://localhost:8080/",
          "height": 710
        },
        "outputId": "de239d84-85c3-4d3e-81d5-114d93dea0a9"
      },
      "cell_type": "code",
      "source": [
        "plt.figure(figsize=(9, 9))\n",
        "\n",
        "for i, j in enumerate(data.columns[:-1]):\n",
        "    plt.subplot(3, 3, i + 1)\n",
        "    sns.boxplot(x = data['class'], y = data[j]); # swarmplot takes too long\n",
        "\n",
        "plt.tight_layout();"
      ],
      "execution_count": 143,
      "outputs": [
        {
          "output_type": "stream",
          "text": [
            "/usr/local/lib/python3.6/dist-packages/seaborn/categorical.py:454: FutureWarning: remove_na is deprecated and is a private function. Do not use.\n",
            "  box_data = remove_na(group_data)\n"
          ],
          "name": "stderr"
        },
        {
          "output_type": "display_data",
          "data": {
            "image/png": "[encoded data removed]",
            "text/plain": [
              "<Figure size 648x648 with 9 Axes>"
            ]
          },
          "metadata": {
            "tags": []
          }
        }
      ]
    },
    {
      "metadata": {
        "id": "hdjBEkvPtp9w",
        "colab_type": "text"
      },
      "cell_type": "markdown",
      "source": [
        "# Modelling"
      ]
    },
    {
      "metadata": {
        "id": "PIUVPO1BtpxN",
        "colab_type": "code",
        "colab": {}
      },
      "cell_type": "code",
      "source": [
        ""
      ],
      "execution_count": 0,
      "outputs": []
    },
    {
      "metadata": {
        "id": "O8JukC2Vnf5k",
        "colab_type": "code",
        "colab": {
          "base_uri": "https://localhost:8080/",
          "height": 384
        },
        "outputId": "7371f1d8-d8eb-40b0-cf62-dc6f8e171165"
      },
      "cell_type": "code",
      "source": [
        ""
      ],
      "execution_count": 136,
      "outputs": [
        {
          "output_type": "execute_result",
          "data": {
            "text/plain": [
              "class  size\n",
              "0      1       380\n",
              "       2        37\n",
              "       3        27\n",
              "       4         9\n",
              "       6         2\n",
              "       7         1\n",
              "       8         1\n",
              "       9         1\n",
              "1      1         4\n",
              "       2         8\n",
              "       3        25\n",
              "       4        31\n",
              "       5        30\n",
              "       6        25\n",
              "       7        18\n",
              "       8        28\n",
              "       9         5\n",
              "       10       67\n",
              "Name: size, dtype: int64"
            ]
          },
          "metadata": {
            "tags": []
          },
          "execution_count": 136
        }
      ]
    },
    {
      "metadata": {
        "id": "syF35tuQngGh",
        "colab_type": "code",
        "colab": {}
      },
      "cell_type": "code",
      "source": [
        ""
      ],
      "execution_count": 0,
      "outputs": []
    }
  ]
}