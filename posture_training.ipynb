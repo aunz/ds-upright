{
  "nbformat": 4,
  "nbformat_minor": 0,
  "metadata": {
    "colab": {
      "name": "posture training",
      "version": "0.3.2",
      "provenance": [],
      "collapsed_sections": []
    },
    "kernelspec": {
      "name": "python3",
      "display_name": "Python 3"
    },
    "accelerator": "GPU"
  },
  "cells": [
    {
      "metadata": {
        "id": "aOP_oJS6Ge0V",
        "colab_type": "code",
        "colab": {}
      },
      "cell_type": "code",
      "source": [
        "import numpy as np\n",
        "import pandas as pd\n",
        "import matplotlib.pyplot as plt\n",
        "\n",
        "import json"
      ],
      "execution_count": 0,
      "outputs": []
    },
    {
      "metadata": {
        "id": "I81ACglKW0JE",
        "colab_type": "text"
      },
      "cell_type": "markdown",
      "source": [
        "# Data"
      ]
    },
    {
      "metadata": {
        "id": "dLNUixieNnuu",
        "colab_type": "code",
        "colab": {
          "base_uri": "https://localhost:8080/",
          "height": 72
        },
        "outputId": "611d6c9c-de20-4e9a-8196-33ec7c0a6118"
      },
      "cell_type": "code",
      "source": [
        "# get the data, a.json are \"good\" posture, b.json are \"bad\" postures\n",
        "\n",
        "# !curl -F \"file=@something.ext\" https://file.io\n",
        "# !curl -o a.json https://file.io/lhlVRw\n",
        "# !curl -o b.json https://file.io/LTxKCc\n",
        "\n",
        "!ls -lah"
      ],
      "execution_count": 3,
      "outputs": [
        {
          "output_type": "stream",
          "text": [
            "  % Total    % Received % Xferd  Average Speed   Time    Time     Time  Current\n",
            "                                 Dload  Upload   Total   Spent    Left  Speed\n",
            "100 13.5M    0 13.5M    0     0  17.9M      0 --:--:-- --:--:-- --:--:-- 17.8M\n"
          ],
          "name": "stdout"
        }
      ]
    },
    {
      "metadata": {
        "id": "INwjI-8xNsQb",
        "colab_type": "code",
        "colab": {
          "base_uri": "https://localhost:8080/",
          "height": 35
        },
        "outputId": "d52a5af0-d1a2-48b8-da34-2c9f9c3e8793"
      },
      "cell_type": "code",
      "source": [
        "# func to load json, extract x, y, concatenate them, turn into np.array, normalise /480\n",
        "def tmp(f):\n",
        "    tmp = json.load(f)\n",
        "    tmp_x = np.array([[j['position']['x'] for j in i['keypoints']] for i in tmp])\n",
        "    tmp_y = np.array([[j['position']['y'] for j in i['keypoints']] for i in tmp])\n",
        "    tmp_name = np.array([i['name'] for i in tmp])\n",
        "    return np.concatenate((tmp_x, tmp_y), axis=1) / 480, tmp_name\n",
        "    \n",
        "\n",
        "with open('a.json', 'r') as f: a, a_name = tmp(f)\n",
        "with open('b.json', 'r') as f: b, b_name = tmp(f)\n",
        "    \n",
        "# combining a, b to a dataset\n",
        "\n",
        "X = np.concatenate((a, b))\n",
        "y = np.append(np.zeros(len(a)), np.ones(len(b))) # 0: a, 1: b\n",
        "\n",
        "ab_name = np.concatenate((a_name, b_name)) \n",
        "\n",
        "print(a.shape, b.shape, X.shape, y.shape, ab_name.shape)\n",
        "\n",
        "\n",
        "del tmp, a, b, a_name, b_name, "
      ],
      "execution_count": 2,
      "outputs": [
        {
          "output_type": "stream",
          "text": [
            "(10475, 34) (10457, 34) (20932, 34) (20932,) (20932,)\n"
          ],
          "name": "stdout"
        }
      ]
    },
    {
      "metadata": {
        "id": "2cFwn-oHQUJx",
        "colab_type": "code",
        "colab": {
          "base_uri": "https://localhost:8080/",
          "height": 72
        },
        "outputId": "bcddc9cc-1036-4ffb-ec83-5cf0eb60e9e4"
      },
      "cell_type": "code",
      "source": [
        "# split into train/val/test\n",
        "np.random.seed(0)\n",
        "\n",
        "# 60% train, 20% validation, 20% test\n",
        "tmp = np.random.permutation(len(X))\n",
        "tmp_train = tmp[:round(len(tmp) * 0.6)]\n",
        "tmp_val = tmp[round(len(tmp) * 0.6):round(len(tmp) * 0.8)]\n",
        "tmp_test = tmp[round(len(tmp) * 0.8):]\n",
        "\n",
        "X_train, y_train = X[tmp_train], y[tmp_train]\n",
        "X_val, y_val = X[tmp_val], y[tmp_val]\n",
        "X_test, y_test = X[tmp_test], y[tmp_test]\n",
        "\n",
        "ab_name_train = ab_name[tmp_train]\n",
        "ab_name_val = X[tmp_val]\n",
        "ab_name_test = X[tmp_test]\n",
        "\n",
        "print('Train', X_train.shape, y_train.shape, y_train.sum())\n",
        "print('Val', X_val.shape, y_val.shape, y_val.sum())\n",
        "print('Test', X_test.shape, y_test.shape, y_test.sum())\n",
        "\n",
        "\n",
        "del tmp, tmp_train, tmp_val, tmp_test"
      ],
      "execution_count": 3,
      "outputs": [
        {
          "output_type": "stream",
          "text": [
            "Train (12559, 34) (12559,) 6302.0\n",
            "Val (4187, 34) (4187,) 2090.0\n",
            "Test (4186, 34) (4186,) 2065.0\n"
          ],
          "name": "stdout"
        }
      ]
    },
    {
      "metadata": {
        "id": "iF6ybHYXWwPn",
        "colab_type": "text"
      },
      "cell_type": "markdown",
      "source": [
        "# Training"
      ]
    },
    {
      "metadata": {
        "id": "ru8ftUt2W7yX",
        "colab_type": "text"
      },
      "cell_type": "markdown",
      "source": [
        "## Regression"
      ]
    },
    {
      "metadata": {
        "id": "yjU-8snebsbX",
        "colab_type": "code",
        "colab": {}
      },
      "cell_type": "code",
      "source": [
        "from sklearn.metrics import confusion_matrix, accuracy_score, classification_report"
      ],
      "execution_count": 0,
      "outputs": []
    },
    {
      "metadata": {
        "id": "0rdgO0g2SVY_",
        "colab_type": "code",
        "colab": {
          "base_uri": "https://localhost:8080/",
          "height": 366
        },
        "outputId": "67058842-08e7-4c90-cd7f-e8a0217ba12f"
      },
      "cell_type": "code",
      "source": [
        "from sklearn.linear_model import LogisticRegression\n",
        "\n",
        "model = LogisticRegression(random_state=0, solver='lbfgs', multi_class='auto').fit(X_train, y_train)\n",
        "\n",
        "print(model.score(X_train, y_train))\n",
        "print(model.score(X_val, y_val))\n",
        "print(model.score(X_test, y_test))\n",
        "\n",
        "# confusion_matrix(y_val, model.predict(X_val))\n",
        "\n",
        "print(classification_report(y_val, model.predict(X_val)))\n",
        "\n",
        "print(model.intercept_, model.coef_)\n"
      ],
      "execution_count": 57,
      "outputs": [
        {
          "output_type": "stream",
          "text": [
            "0.9793773389601083\n",
            "0.9818485789347982\n",
            "0.9835164835164835\n",
            "              precision    recall  f1-score   support\n",
            "\n",
            "         0.0       0.98      0.98      0.98      2097\n",
            "         1.0       0.98      0.98      0.98      2090\n",
            "\n",
            "   micro avg       0.98      0.98      0.98      4187\n",
            "   macro avg       0.98      0.98      0.98      4187\n",
            "weighted avg       0.98      0.98      0.98      4187\n",
            "\n",
            "[17.24016087] [[-11.59297432 -10.48313072 -11.24994747 -11.06962914  -8.26816833\n",
            "   -6.85886515  -4.83989711  -0.72550568  -2.80627788  -1.84612645\n",
            "   -4.40763068   9.69464209   4.04290725   6.51791598   5.20727441\n",
            "    1.36463445   2.36079032   8.79429058   7.34754462   7.04710324\n",
            "    6.00282833   4.35750347   3.0650297    3.49635641   2.20437731\n",
            "    1.81695029   1.90782238   2.83214111   0.07692417  -0.96839343\n",
            "   -3.14235201  -3.8216309   -0.91195957  -1.31549044]]\n"
          ],
          "name": "stdout"
        }
      ]
    },
    {
      "metadata": {
        "id": "MvB3aBLGBOlm",
        "colab_type": "code",
        "colab": {
          "base_uri": "https://localhost:8080/",
          "height": 182
        },
        "outputId": "48b299e4-af6f-4a6c-fcdc-d1f897bfa3f6"
      },
      "cell_type": "code",
      "source": [
        "# can use these coef_ and intercept_ for javascript\n",
        "\n",
        "def predict(x):\n",
        "    tmp = (x * model.coef_).sum() + model.intercept_\n",
        "    tmp = 1 / (1 + np.exp(-tmp))\n",
        "    return tmp\n",
        "\n",
        "for i in range(1, 10):\n",
        "    print(predict(X_val[i]), model.predict_proba(X_val)[i][1])\n",
        "    "
      ],
      "execution_count": 66,
      "outputs": [
        {
          "output_type": "stream",
          "text": [
            "[0.98000469] 0.9800046868259261\n",
            "[0.9973319] 0.9973319041085145\n",
            "[0.99948657] 0.9994865731088585\n",
            "[0.9205517] 0.9205517045703779\n",
            "[0.76994517] 0.769945172288728\n",
            "[0.00067037] 0.0006703694322360918\n",
            "[0.86025183] 0.8602518348713658\n",
            "[0.81909494] 0.8190949387801347\n",
            "[0.00043184] 0.0004318431132530536\n"
          ],
          "name": "stdout"
        }
      ]
    },
    {
      "metadata": {
        "id": "ZO-5F1sw8hhW",
        "colab_type": "code",
        "colab": {
          "base_uri": "https://localhost:8080/",
          "height": 182
        },
        "outputId": "ab88010b-3b40-4f00-a140-db075a8e9100"
      },
      "cell_type": "code",
      "source": [
        ""
      ],
      "execution_count": 56,
      "outputs": [
        {
          "output_type": "execute_result",
          "data": {
            "text/plain": [
              "array([[-11.59297432, -10.48313072, -11.24994747, -11.06962914,\n",
              "         -8.26816833,  -6.85886515,  -4.83989711,  -0.72550568,\n",
              "         -2.80627788,  -1.84612645,  -4.40763068,   9.69464209,\n",
              "          4.04290725,   6.51791598,   5.20727441,   1.36463445,\n",
              "          2.36079032,   8.79429058,   7.34754462,   7.04710324,\n",
              "          6.00282833,   4.35750347,   3.0650297 ,   3.49635641,\n",
              "          2.20437731,   1.81695029,   1.90782238,   2.83214111,\n",
              "          0.07692417,  -0.96839343,  -3.14235201,  -3.8216309 ,\n",
              "         -0.91195957,  -1.31549044]])"
            ]
          },
          "metadata": {
            "tags": []
          },
          "execution_count": 56
        }
      ]
    },
    {
      "metadata": {
        "id": "6QizLZLHcwCj",
        "colab_type": "text"
      },
      "cell_type": "markdown",
      "source": [
        "## KNN"
      ]
    },
    {
      "metadata": {
        "id": "MOX7F--Ycwpb",
        "colab_type": "code",
        "colab": {
          "base_uri": "https://localhost:8080/",
          "height": 237
        },
        "outputId": "dc54e3e8-4508-4eb6-8920-4380570bb128"
      },
      "cell_type": "code",
      "source": [
        "from sklearn.neighbors import KNeighborsClassifier\n",
        "\n",
        "model = KNeighborsClassifier(n_neighbors=5).fit(X_train, y_train)\n",
        "\n",
        "print(model.score(X_train, y_train))\n",
        "print(model.score(X_val, y_val))\n",
        "print(model.score(X_test, y_test))\n",
        "\n",
        "# confusion_matrix(y_val, model.predict(X_val))\n",
        "\n",
        "print(classification_report(y_val, model.predict(X_val)))"
      ],
      "execution_count": 125,
      "outputs": [
        {
          "output_type": "stream",
          "text": [
            "0.9988852615654112\n",
            "0.9980893240983998\n",
            "0.9985666507405638\n",
            "              precision    recall  f1-score   support\n",
            "\n",
            "         0.0       1.00      1.00      1.00      2097\n",
            "         1.0       1.00      1.00      1.00      2090\n",
            "\n",
            "   micro avg       1.00      1.00      1.00      4187\n",
            "   macro avg       1.00      1.00      1.00      4187\n",
            "weighted avg       1.00      1.00      1.00      4187\n",
            "\n"
          ],
          "name": "stdout"
        }
      ]
    },
    {
      "metadata": {
        "id": "P6MClo3-dmmD",
        "colab_type": "text"
      },
      "cell_type": "markdown",
      "source": [
        "## Basic neural network"
      ]
    },
    {
      "metadata": {
        "id": "O_8DMI0Bdm1_",
        "colab_type": "code",
        "colab": {
          "base_uri": "https://localhost:8080/",
          "height": 35
        },
        "outputId": "8dcccf24-4bdf-4630-f50c-74a9915b215e"
      },
      "cell_type": "code",
      "source": [
        "from keras.models import Sequential\n",
        "from keras.layers import Dense, Activation, Conv2D, SeparableConv2D, MaxPooling2D, AveragePooling2D, GlobalMaxPooling2D, BatchNormalization, Flatten, Dropout, InputLayer\n",
        "from keras.optimizers import Adam, Adamax, RMSprop\n",
        "from keras.callbacks import EarlyStopping, ReduceLROnPlateau\n",
        "from keras.preprocessing.image import ImageDataGenerator"
      ],
      "execution_count": 11,
      "outputs": [
        {
          "output_type": "stream",
          "text": [
            "Using TensorFlow backend.\n"
          ],
          "name": "stderr"
        }
      ]
    },
    {
      "metadata": {
        "id": "mVPrGT2Rg1dz",
        "colab_type": "code",
        "colab": {}
      },
      "cell_type": "code",
      "source": [
        "def train(make_model, n = 5, optimizer = lambda: 'rmsprop', callbacks = lambda: [EarlyStopping(patience=5, verbose=1)], verbose=0):\n",
        "    # given a model, train it for n times and plot the associated metrics\n",
        "    # make_model, optimizer and callbacks should be provided as a function as each time the functions are called, brand new instances are created in the for loop below. Use this because can't use deepcopy\n",
        "\n",
        "    models = [] # to hold the model weights\n",
        "    hists = [] # contains all the history\n",
        "    \n",
        "    make_model(None).summary()\n",
        "    \n",
        "    plt.figure(figsize=(4 * (n + 2), 8)) # the figure\n",
        "\n",
        "    for i in range(n):\n",
        "        model = make_model(i)\n",
        "        model.compile(loss='binary_crossentropy', optimizer=optimizer(), metrics=['accuracy'])\n",
        "        hist = model.fit(X_train, y_train, batch_size=256, epochs=100, validation_data=(X_val, y_val), callbacks=callbacks(), verbose=verbose)        \n",
        "        hists.append(hist)\n",
        "        \n",
        "        models.append(model) # store the model\n",
        "#         model.set_weights(initial_weights) # restore to the original weights\n",
        "\n",
        "        r = range(2, len(hist.history['acc']) + 1) # starting from epoch 2, ignore the first epoch\n",
        "        plt.subplot(2, n + 1, i + 2) # plot the loss history, starting with subplot 3\n",
        "        plt.plot(r, hist.history['loss'][1:], '.-', label='Train loss') # ignore the first epoch\n",
        "        plt.plot(r, hist.history['val_loss'][1:], '.-', label='Val loss')\n",
        "        plt.legend()\n",
        "        \n",
        "        plt.subplot(2, n + 1, i + 2 + n + 1) # plot the acc history, starting with subplot 3\n",
        "        plt.plot(r, hist.history['acc'][1:], '.-', label='Train acc')\n",
        "        plt.plot(r, hist.history['val_acc'][1:], '.-', label='Val acc')\n",
        "        plt.legend()\n",
        "\n",
        "    \n",
        "    plt.subplot(2, n + 1, 1) # plot the loss summary at the first subplot\n",
        "    metrics = ['loss'] * n + ['val_loss'] * n \n",
        "    values = np.concatenate([\n",
        "        [i.history['loss'][-1] for i in hists],\n",
        "        [i.history['val_loss'][-1] for i in hists],\n",
        "    ])\n",
        "    plt.plot(metrics, values, '.')\n",
        "    plt.ylabel('Loss')\n",
        "    values = values.reshape(2, -1)\n",
        "    print('Loss', *values)\n",
        "    print('Mean', values.mean(1), 'Std', values.std(1))\n",
        "    \n",
        "    plt.subplot(2, n + 1, n + 2) # plot the acc summary at the second subplot\n",
        "    metrics = ['acc'] * n + ['val_acc'] * n\n",
        "    values = np.concatenate([\n",
        "        [i.history['acc'][-1] for i in hists],\n",
        "        [i.history['val_acc'][-1] for i in hists]\n",
        "    ])\n",
        "    plt.plot(metrics, values, '.')\n",
        "    plt.ylabel('Accuracy')\n",
        "    values = values.reshape(2, -1)\n",
        "    print('\\nAcc', *values)\n",
        "    print('Mean', values.mean(1), 'Std', values.std(1))\n",
        "\n",
        "    plt.tight_layout()\n",
        "    \n",
        "    return models, hists\n"
      ],
      "execution_count": 0,
      "outputs": []
    },
    {
      "metadata": {
        "id": "Uhdhgk7dg-p6",
        "colab_type": "code",
        "colab": {}
      },
      "cell_type": "code",
      "source": [
        "%%time\n",
        "\n",
        "callbacks = lambda: [\n",
        "    ReduceLROnPlateau(patience=3, verbose=1, factor=0.5, min_lr=1e-5),\n",
        "    EarlyStopping(patience=5, verbose=1)\n",
        "]\n",
        "\n",
        "_ = train(lambda x: Sequential([\n",
        "    Dense(64, input_shape=(X.shape[1],), activation='relu'),\n",
        "    Dense(1, activation='sigmoid')\n",
        "]), callbacks=callbacks, verbose=1)"
      ],
      "execution_count": 0,
      "outputs": []
    },
    {
      "metadata": {
        "id": "jUJiulMkjnL0",
        "colab_type": "code",
        "colab": {}
      },
      "cell_type": "code",
      "source": [
        "%%time\n",
        "\n",
        "callbacks = lambda: [\n",
        "    ReduceLROnPlateau(patience=3, verbose=1, factor=0.5, min_lr=1e-5),\n",
        "    EarlyStopping(patience=5, verbose=0)\n",
        "]\n",
        "\n",
        "_ = train(lambda x: Sequential([\n",
        "    Dense(64, input_shape=(X.shape[1],), activation='relu'),\n",
        "    Dense(64, activation='relu'),\n",
        "    Dense(64, activation='relu'),\n",
        "    Dense(1, activation='sigmoid')\n",
        "]), callbacks=callbacks, verbose=0)"
      ],
      "execution_count": 0,
      "outputs": []
    },
    {
      "metadata": {
        "id": "ArEUl17ml-vJ",
        "colab_type": "text"
      },
      "cell_type": "markdown",
      "source": [
        "## Convolution network"
      ]
    },
    {
      "metadata": {
        "id": "1xJZaKP1dvpX",
        "colab_type": "code",
        "colab": {
          "base_uri": "https://localhost:8080/",
          "height": 1772
        },
        "outputId": "f8bbfd1b-57fc-4611-ebbd-141c2ff338f8"
      },
      "cell_type": "code",
      "source": [
        "# convert the data to 2D\n",
        "\n",
        "def generate_img(features, target, multiplier = 480):\n",
        "    for x, y in zip(features, target):\n",
        "        tmp = np.zeros((480, 270, 1)) # pic of 480 x 270\n",
        "        i = int(len(features) / 2)\n",
        "        x = np.int64(features[:i] * multiplier)\n",
        "        y = np.int64(np.min(features[i:] * multiplier, 269))\n",
        "        print(y)\n",
        "        for i, j in zip(x, y):\n",
        "            tmp[i, j, 0] = 1\n",
        "            yield (tmp, y)\n",
        "            \n",
        "model = Sequential()\n",
        "model.add(Conv2D(32, kernel_size=3, strides=1, activation='relu', input_shape=(480, 270, 1)))\n",
        "model.add(Flatten())\n",
        "model.add(Dense(1, activation='sigmoid'))\n",
        "\n",
        "model.compile(loss='binary_crossentropy', optimizer='rmsprop', metrics=['accuracy'])\n",
        "model.fit_generator(\n",
        "    generate_img(X_train, y_train),\n",
        "#     steps_per_epoch=256,\n",
        "    steps_per_epoch=len(X_train),\n",
        "    epochs=100,\n",
        "    validation_data=generate_img(X_val, y_val),\n",
        "    validation_steps=len(X_val),\n",
        "    verbose=1\n",
        ")\n"
      ],
      "execution_count": 49,
      "outputs": [
        {
          "output_type": "stream",
          "text": [
            "Epoch 1/100\n"
          ],
          "name": "stdout"
        },
        {
          "output_type": "error",
          "ename": "AxisError",
          "evalue": "ignored",
          "traceback": [
            "\u001b[0;31m---------------------------------------------------------------------------\u001b[0m",
            "\u001b[0;31mAxisError\u001b[0m                                 Traceback (most recent call last)",
            "\u001b[0;32m<ipython-input-49-d1aab01c198f>\u001b[0m in \u001b[0;36m<module>\u001b[0;34m()\u001b[0m\n\u001b[1;32m     24\u001b[0m     \u001b[0mvalidation_data\u001b[0m\u001b[0;34m=\u001b[0m\u001b[0mgenerate_img\u001b[0m\u001b[0;34m(\u001b[0m\u001b[0mX_val\u001b[0m\u001b[0;34m,\u001b[0m \u001b[0my_val\u001b[0m\u001b[0;34m)\u001b[0m\u001b[0;34m,\u001b[0m\u001b[0;34m\u001b[0m\u001b[0;34m\u001b[0m\u001b[0m\n\u001b[1;32m     25\u001b[0m     \u001b[0mvalidation_steps\u001b[0m\u001b[0;34m=\u001b[0m\u001b[0mlen\u001b[0m\u001b[0;34m(\u001b[0m\u001b[0mX_val\u001b[0m\u001b[0;34m)\u001b[0m\u001b[0;34m,\u001b[0m\u001b[0;34m\u001b[0m\u001b[0;34m\u001b[0m\u001b[0m\n\u001b[0;32m---> 26\u001b[0;31m     \u001b[0mverbose\u001b[0m\u001b[0;34m=\u001b[0m\u001b[0;36m1\u001b[0m\u001b[0;34m\u001b[0m\u001b[0;34m\u001b[0m\u001b[0m\n\u001b[0m\u001b[1;32m     27\u001b[0m )\n",
            "\u001b[0;32m/usr/local/lib/python3.6/dist-packages/keras/legacy/interfaces.py\u001b[0m in \u001b[0;36mwrapper\u001b[0;34m(*args, **kwargs)\u001b[0m\n\u001b[1;32m     89\u001b[0m                 warnings.warn('Update your `' + object_name + '` call to the ' +\n\u001b[1;32m     90\u001b[0m                               'Keras 2 API: ' + signature, stacklevel=2)\n\u001b[0;32m---> 91\u001b[0;31m             \u001b[0;32mreturn\u001b[0m \u001b[0mfunc\u001b[0m\u001b[0;34m(\u001b[0m\u001b[0;34m*\u001b[0m\u001b[0margs\u001b[0m\u001b[0;34m,\u001b[0m \u001b[0;34m**\u001b[0m\u001b[0mkwargs\u001b[0m\u001b[0;34m)\u001b[0m\u001b[0;34m\u001b[0m\u001b[0;34m\u001b[0m\u001b[0m\n\u001b[0m\u001b[1;32m     92\u001b[0m         \u001b[0mwrapper\u001b[0m\u001b[0;34m.\u001b[0m\u001b[0m_original_function\u001b[0m \u001b[0;34m=\u001b[0m \u001b[0mfunc\u001b[0m\u001b[0;34m\u001b[0m\u001b[0;34m\u001b[0m\u001b[0m\n\u001b[1;32m     93\u001b[0m         \u001b[0;32mreturn\u001b[0m \u001b[0mwrapper\u001b[0m\u001b[0;34m\u001b[0m\u001b[0;34m\u001b[0m\u001b[0m\n",
            "\u001b[0;32m/usr/local/lib/python3.6/dist-packages/keras/engine/training.py\u001b[0m in \u001b[0;36mfit_generator\u001b[0;34m(self, generator, steps_per_epoch, epochs, verbose, callbacks, validation_data, validation_steps, class_weight, max_queue_size, workers, use_multiprocessing, shuffle, initial_epoch)\u001b[0m\n\u001b[1;32m   1416\u001b[0m             \u001b[0muse_multiprocessing\u001b[0m\u001b[0;34m=\u001b[0m\u001b[0muse_multiprocessing\u001b[0m\u001b[0;34m,\u001b[0m\u001b[0;34m\u001b[0m\u001b[0;34m\u001b[0m\u001b[0m\n\u001b[1;32m   1417\u001b[0m             \u001b[0mshuffle\u001b[0m\u001b[0;34m=\u001b[0m\u001b[0mshuffle\u001b[0m\u001b[0;34m,\u001b[0m\u001b[0;34m\u001b[0m\u001b[0;34m\u001b[0m\u001b[0m\n\u001b[0;32m-> 1418\u001b[0;31m             initial_epoch=initial_epoch)\n\u001b[0m\u001b[1;32m   1419\u001b[0m \u001b[0;34m\u001b[0m\u001b[0m\n\u001b[1;32m   1420\u001b[0m     \u001b[0;34m@\u001b[0m\u001b[0minterfaces\u001b[0m\u001b[0;34m.\u001b[0m\u001b[0mlegacy_generator_methods_support\u001b[0m\u001b[0;34m\u001b[0m\u001b[0;34m\u001b[0m\u001b[0m\n",
            "\u001b[0;32m/usr/local/lib/python3.6/dist-packages/keras/engine/training_generator.py\u001b[0m in \u001b[0;36mfit_generator\u001b[0;34m(model, generator, steps_per_epoch, epochs, verbose, callbacks, validation_data, validation_steps, class_weight, max_queue_size, workers, use_multiprocessing, shuffle, initial_epoch)\u001b[0m\n\u001b[1;32m    179\u001b[0m             \u001b[0mbatch_index\u001b[0m \u001b[0;34m=\u001b[0m \u001b[0;36m0\u001b[0m\u001b[0;34m\u001b[0m\u001b[0;34m\u001b[0m\u001b[0m\n\u001b[1;32m    180\u001b[0m             \u001b[0;32mwhile\u001b[0m \u001b[0msteps_done\u001b[0m \u001b[0;34m<\u001b[0m \u001b[0msteps_per_epoch\u001b[0m\u001b[0;34m:\u001b[0m\u001b[0;34m\u001b[0m\u001b[0;34m\u001b[0m\u001b[0m\n\u001b[0;32m--> 181\u001b[0;31m                 \u001b[0mgenerator_output\u001b[0m \u001b[0;34m=\u001b[0m \u001b[0mnext\u001b[0m\u001b[0;34m(\u001b[0m\u001b[0moutput_generator\u001b[0m\u001b[0;34m)\u001b[0m\u001b[0;34m\u001b[0m\u001b[0;34m\u001b[0m\u001b[0m\n\u001b[0m\u001b[1;32m    182\u001b[0m \u001b[0;34m\u001b[0m\u001b[0m\n\u001b[1;32m    183\u001b[0m                 \u001b[0;32mif\u001b[0m \u001b[0;32mnot\u001b[0m \u001b[0mhasattr\u001b[0m\u001b[0;34m(\u001b[0m\u001b[0mgenerator_output\u001b[0m\u001b[0;34m,\u001b[0m \u001b[0;34m'__len__'\u001b[0m\u001b[0;34m)\u001b[0m\u001b[0;34m:\u001b[0m\u001b[0;34m\u001b[0m\u001b[0;34m\u001b[0m\u001b[0m\n",
            "\u001b[0;32m/usr/local/lib/python3.6/dist-packages/keras/utils/data_utils.py\u001b[0m in \u001b[0;36mget\u001b[0;34m(self)\u001b[0m\n\u001b[1;32m    707\u001b[0m                     \u001b[0;34m\"`use_multiprocessing=False, workers > 1`.\"\u001b[0m\u001b[0;34m\u001b[0m\u001b[0;34m\u001b[0m\u001b[0m\n\u001b[1;32m    708\u001b[0m                     \"For more information see issue #1638.\")\n\u001b[0;32m--> 709\u001b[0;31m             \u001b[0msix\u001b[0m\u001b[0;34m.\u001b[0m\u001b[0mreraise\u001b[0m\u001b[0;34m(\u001b[0m\u001b[0;34m*\u001b[0m\u001b[0msys\u001b[0m\u001b[0;34m.\u001b[0m\u001b[0mexc_info\u001b[0m\u001b[0;34m(\u001b[0m\u001b[0;34m)\u001b[0m\u001b[0;34m)\u001b[0m\u001b[0;34m\u001b[0m\u001b[0;34m\u001b[0m\u001b[0m\n\u001b[0m",
            "\u001b[0;32m/usr/local/lib/python3.6/dist-packages/six.py\u001b[0m in \u001b[0;36mreraise\u001b[0;34m(tp, value, tb)\u001b[0m\n\u001b[1;32m    691\u001b[0m             \u001b[0;32mif\u001b[0m \u001b[0mvalue\u001b[0m\u001b[0;34m.\u001b[0m\u001b[0m__traceback__\u001b[0m \u001b[0;32mis\u001b[0m \u001b[0;32mnot\u001b[0m \u001b[0mtb\u001b[0m\u001b[0;34m:\u001b[0m\u001b[0;34m\u001b[0m\u001b[0;34m\u001b[0m\u001b[0m\n\u001b[1;32m    692\u001b[0m                 \u001b[0;32mraise\u001b[0m \u001b[0mvalue\u001b[0m\u001b[0;34m.\u001b[0m\u001b[0mwith_traceback\u001b[0m\u001b[0;34m(\u001b[0m\u001b[0mtb\u001b[0m\u001b[0;34m)\u001b[0m\u001b[0;34m\u001b[0m\u001b[0;34m\u001b[0m\u001b[0m\n\u001b[0;32m--> 693\u001b[0;31m             \u001b[0;32mraise\u001b[0m \u001b[0mvalue\u001b[0m\u001b[0;34m\u001b[0m\u001b[0;34m\u001b[0m\u001b[0m\n\u001b[0m\u001b[1;32m    694\u001b[0m         \u001b[0;32mfinally\u001b[0m\u001b[0;34m:\u001b[0m\u001b[0;34m\u001b[0m\u001b[0;34m\u001b[0m\u001b[0m\n\u001b[1;32m    695\u001b[0m             \u001b[0mvalue\u001b[0m \u001b[0;34m=\u001b[0m \u001b[0;32mNone\u001b[0m\u001b[0;34m\u001b[0m\u001b[0;34m\u001b[0m\u001b[0m\n",
            "\u001b[0;32m/usr/local/lib/python3.6/dist-packages/keras/utils/data_utils.py\u001b[0m in \u001b[0;36mget\u001b[0;34m(self)\u001b[0m\n\u001b[1;32m    683\u001b[0m         \u001b[0;32mtry\u001b[0m\u001b[0;34m:\u001b[0m\u001b[0;34m\u001b[0m\u001b[0;34m\u001b[0m\u001b[0m\n\u001b[1;32m    684\u001b[0m             \u001b[0;32mwhile\u001b[0m \u001b[0mself\u001b[0m\u001b[0;34m.\u001b[0m\u001b[0mis_running\u001b[0m\u001b[0;34m(\u001b[0m\u001b[0;34m)\u001b[0m\u001b[0;34m:\u001b[0m\u001b[0;34m\u001b[0m\u001b[0;34m\u001b[0m\u001b[0m\n\u001b[0;32m--> 685\u001b[0;31m                 \u001b[0minputs\u001b[0m \u001b[0;34m=\u001b[0m \u001b[0mself\u001b[0m\u001b[0;34m.\u001b[0m\u001b[0mqueue\u001b[0m\u001b[0;34m.\u001b[0m\u001b[0mget\u001b[0m\u001b[0;34m(\u001b[0m\u001b[0mblock\u001b[0m\u001b[0;34m=\u001b[0m\u001b[0;32mTrue\u001b[0m\u001b[0;34m)\u001b[0m\u001b[0;34m.\u001b[0m\u001b[0mget\u001b[0m\u001b[0;34m(\u001b[0m\u001b[0;34m)\u001b[0m\u001b[0;34m\u001b[0m\u001b[0;34m\u001b[0m\u001b[0m\n\u001b[0m\u001b[1;32m    686\u001b[0m                 \u001b[0mself\u001b[0m\u001b[0;34m.\u001b[0m\u001b[0mqueue\u001b[0m\u001b[0;34m.\u001b[0m\u001b[0mtask_done\u001b[0m\u001b[0;34m(\u001b[0m\u001b[0;34m)\u001b[0m\u001b[0;34m\u001b[0m\u001b[0;34m\u001b[0m\u001b[0m\n\u001b[1;32m    687\u001b[0m                 \u001b[0;32mif\u001b[0m \u001b[0minputs\u001b[0m \u001b[0;32mis\u001b[0m \u001b[0;32mnot\u001b[0m \u001b[0;32mNone\u001b[0m\u001b[0;34m:\u001b[0m\u001b[0;34m\u001b[0m\u001b[0;34m\u001b[0m\u001b[0m\n",
            "\u001b[0;32m/usr/lib/python3.6/multiprocessing/pool.py\u001b[0m in \u001b[0;36mget\u001b[0;34m(self, timeout)\u001b[0m\n\u001b[1;32m    668\u001b[0m             \u001b[0;32mreturn\u001b[0m \u001b[0mself\u001b[0m\u001b[0;34m.\u001b[0m\u001b[0m_value\u001b[0m\u001b[0;34m\u001b[0m\u001b[0;34m\u001b[0m\u001b[0m\n\u001b[1;32m    669\u001b[0m         \u001b[0;32melse\u001b[0m\u001b[0;34m:\u001b[0m\u001b[0;34m\u001b[0m\u001b[0;34m\u001b[0m\u001b[0m\n\u001b[0;32m--> 670\u001b[0;31m             \u001b[0;32mraise\u001b[0m \u001b[0mself\u001b[0m\u001b[0;34m.\u001b[0m\u001b[0m_value\u001b[0m\u001b[0;34m\u001b[0m\u001b[0;34m\u001b[0m\u001b[0m\n\u001b[0m\u001b[1;32m    671\u001b[0m \u001b[0;34m\u001b[0m\u001b[0m\n\u001b[1;32m    672\u001b[0m     \u001b[0;32mdef\u001b[0m \u001b[0m_set\u001b[0m\u001b[0;34m(\u001b[0m\u001b[0mself\u001b[0m\u001b[0;34m,\u001b[0m \u001b[0mi\u001b[0m\u001b[0;34m,\u001b[0m \u001b[0mobj\u001b[0m\u001b[0;34m)\u001b[0m\u001b[0;34m:\u001b[0m\u001b[0;34m\u001b[0m\u001b[0;34m\u001b[0m\u001b[0m\n",
            "\u001b[0;32m/usr/lib/python3.6/multiprocessing/pool.py\u001b[0m in \u001b[0;36mworker\u001b[0;34m(inqueue, outqueue, initializer, initargs, maxtasks, wrap_exception)\u001b[0m\n\u001b[1;32m    117\u001b[0m         \u001b[0mjob\u001b[0m\u001b[0;34m,\u001b[0m \u001b[0mi\u001b[0m\u001b[0;34m,\u001b[0m \u001b[0mfunc\u001b[0m\u001b[0;34m,\u001b[0m \u001b[0margs\u001b[0m\u001b[0;34m,\u001b[0m \u001b[0mkwds\u001b[0m \u001b[0;34m=\u001b[0m \u001b[0mtask\u001b[0m\u001b[0;34m\u001b[0m\u001b[0;34m\u001b[0m\u001b[0m\n\u001b[1;32m    118\u001b[0m         \u001b[0;32mtry\u001b[0m\u001b[0;34m:\u001b[0m\u001b[0;34m\u001b[0m\u001b[0;34m\u001b[0m\u001b[0m\n\u001b[0;32m--> 119\u001b[0;31m             \u001b[0mresult\u001b[0m \u001b[0;34m=\u001b[0m \u001b[0;34m(\u001b[0m\u001b[0;32mTrue\u001b[0m\u001b[0;34m,\u001b[0m \u001b[0mfunc\u001b[0m\u001b[0;34m(\u001b[0m\u001b[0;34m*\u001b[0m\u001b[0margs\u001b[0m\u001b[0;34m,\u001b[0m \u001b[0;34m**\u001b[0m\u001b[0mkwds\u001b[0m\u001b[0;34m)\u001b[0m\u001b[0;34m)\u001b[0m\u001b[0;34m\u001b[0m\u001b[0;34m\u001b[0m\u001b[0m\n\u001b[0m\u001b[1;32m    120\u001b[0m         \u001b[0;32mexcept\u001b[0m \u001b[0mException\u001b[0m \u001b[0;32mas\u001b[0m \u001b[0me\u001b[0m\u001b[0;34m:\u001b[0m\u001b[0;34m\u001b[0m\u001b[0;34m\u001b[0m\u001b[0m\n\u001b[1;32m    121\u001b[0m             \u001b[0;32mif\u001b[0m \u001b[0mwrap_exception\u001b[0m \u001b[0;32mand\u001b[0m \u001b[0mfunc\u001b[0m \u001b[0;32mis\u001b[0m \u001b[0;32mnot\u001b[0m \u001b[0m_helper_reraises_exception\u001b[0m\u001b[0;34m:\u001b[0m\u001b[0;34m\u001b[0m\u001b[0;34m\u001b[0m\u001b[0m\n",
            "\u001b[0;32m/usr/local/lib/python3.6/dist-packages/keras/utils/data_utils.py\u001b[0m in \u001b[0;36mnext_sample\u001b[0;34m(uid)\u001b[0m\n\u001b[1;32m    624\u001b[0m         \u001b[0mThe\u001b[0m \u001b[0mnext\u001b[0m \u001b[0mvalue\u001b[0m \u001b[0mof\u001b[0m \u001b[0mgenerator\u001b[0m\u001b[0;31m \u001b[0m\u001b[0;31m`\u001b[0m\u001b[0muid\u001b[0m\u001b[0;31m`\u001b[0m\u001b[0;34m.\u001b[0m\u001b[0;34m\u001b[0m\u001b[0;34m\u001b[0m\u001b[0m\n\u001b[1;32m    625\u001b[0m     \"\"\"\n\u001b[0;32m--> 626\u001b[0;31m     \u001b[0;32mreturn\u001b[0m \u001b[0msix\u001b[0m\u001b[0;34m.\u001b[0m\u001b[0mnext\u001b[0m\u001b[0;34m(\u001b[0m\u001b[0m_SHARED_SEQUENCES\u001b[0m\u001b[0;34m[\u001b[0m\u001b[0muid\u001b[0m\u001b[0;34m]\u001b[0m\u001b[0;34m)\u001b[0m\u001b[0;34m\u001b[0m\u001b[0;34m\u001b[0m\u001b[0m\n\u001b[0m\u001b[1;32m    627\u001b[0m \u001b[0;34m\u001b[0m\u001b[0m\n\u001b[1;32m    628\u001b[0m \u001b[0;34m\u001b[0m\u001b[0m\n",
            "\u001b[0;32m<ipython-input-49-d1aab01c198f>\u001b[0m in \u001b[0;36mgenerate_img\u001b[0;34m(features, target, multiplier)\u001b[0m\n\u001b[1;32m      5\u001b[0m         \u001b[0mi\u001b[0m \u001b[0;34m=\u001b[0m \u001b[0mint\u001b[0m\u001b[0;34m(\u001b[0m\u001b[0mlen\u001b[0m\u001b[0;34m(\u001b[0m\u001b[0mfeatures\u001b[0m\u001b[0;34m)\u001b[0m \u001b[0;34m/\u001b[0m \u001b[0;36m2\u001b[0m\u001b[0;34m)\u001b[0m\u001b[0;34m\u001b[0m\u001b[0;34m\u001b[0m\u001b[0m\n\u001b[1;32m      6\u001b[0m         \u001b[0mx\u001b[0m \u001b[0;34m=\u001b[0m \u001b[0mnp\u001b[0m\u001b[0;34m.\u001b[0m\u001b[0mint64\u001b[0m\u001b[0;34m(\u001b[0m\u001b[0mfeatures\u001b[0m\u001b[0;34m[\u001b[0m\u001b[0;34m:\u001b[0m\u001b[0mi\u001b[0m\u001b[0;34m]\u001b[0m \u001b[0;34m*\u001b[0m \u001b[0mmultiplier\u001b[0m\u001b[0;34m)\u001b[0m\u001b[0;34m\u001b[0m\u001b[0;34m\u001b[0m\u001b[0m\n\u001b[0;32m----> 7\u001b[0;31m         \u001b[0my\u001b[0m \u001b[0;34m=\u001b[0m \u001b[0mnp\u001b[0m\u001b[0;34m.\u001b[0m\u001b[0mint64\u001b[0m\u001b[0;34m(\u001b[0m\u001b[0mnp\u001b[0m\u001b[0;34m.\u001b[0m\u001b[0mmin\u001b[0m\u001b[0;34m(\u001b[0m\u001b[0mfeatures\u001b[0m\u001b[0;34m[\u001b[0m\u001b[0mi\u001b[0m\u001b[0;34m:\u001b[0m\u001b[0;34m]\u001b[0m \u001b[0;34m*\u001b[0m \u001b[0mmultiplier\u001b[0m\u001b[0;34m,\u001b[0m \u001b[0;36m269\u001b[0m\u001b[0;34m)\u001b[0m\u001b[0;34m)\u001b[0m\u001b[0;34m\u001b[0m\u001b[0;34m\u001b[0m\u001b[0m\n\u001b[0m\u001b[1;32m      8\u001b[0m         \u001b[0mprint\u001b[0m\u001b[0;34m(\u001b[0m\u001b[0my\u001b[0m\u001b[0;34m)\u001b[0m\u001b[0;34m\u001b[0m\u001b[0;34m\u001b[0m\u001b[0m\n\u001b[1;32m      9\u001b[0m         \u001b[0;32mfor\u001b[0m \u001b[0mi\u001b[0m\u001b[0;34m,\u001b[0m \u001b[0mj\u001b[0m \u001b[0;32min\u001b[0m \u001b[0mzip\u001b[0m\u001b[0;34m(\u001b[0m\u001b[0mx\u001b[0m\u001b[0;34m,\u001b[0m \u001b[0my\u001b[0m\u001b[0;34m)\u001b[0m\u001b[0;34m:\u001b[0m\u001b[0;34m\u001b[0m\u001b[0;34m\u001b[0m\u001b[0m\n",
            "\u001b[0;32m/usr/local/lib/python3.6/dist-packages/numpy/core/fromnumeric.py\u001b[0m in \u001b[0;36mamin\u001b[0;34m(a, axis, out, keepdims)\u001b[0m\n\u001b[1;32m   2418\u001b[0m \u001b[0;34m\u001b[0m\u001b[0m\n\u001b[1;32m   2419\u001b[0m     return _methods._amin(a, axis=axis,\n\u001b[0;32m-> 2420\u001b[0;31m                           out=out, **kwargs)\n\u001b[0m\u001b[1;32m   2421\u001b[0m \u001b[0;34m\u001b[0m\u001b[0m\n\u001b[1;32m   2422\u001b[0m \u001b[0;34m\u001b[0m\u001b[0m\n",
            "\u001b[0;32m/usr/local/lib/python3.6/dist-packages/numpy/core/_methods.py\u001b[0m in \u001b[0;36m_amin\u001b[0;34m(a, axis, out, keepdims)\u001b[0m\n\u001b[1;32m     27\u001b[0m \u001b[0;34m\u001b[0m\u001b[0m\n\u001b[1;32m     28\u001b[0m \u001b[0;32mdef\u001b[0m \u001b[0m_amin\u001b[0m\u001b[0;34m(\u001b[0m\u001b[0ma\u001b[0m\u001b[0;34m,\u001b[0m \u001b[0maxis\u001b[0m\u001b[0;34m=\u001b[0m\u001b[0;32mNone\u001b[0m\u001b[0;34m,\u001b[0m \u001b[0mout\u001b[0m\u001b[0;34m=\u001b[0m\u001b[0;32mNone\u001b[0m\u001b[0;34m,\u001b[0m \u001b[0mkeepdims\u001b[0m\u001b[0;34m=\u001b[0m\u001b[0;32mFalse\u001b[0m\u001b[0;34m)\u001b[0m\u001b[0;34m:\u001b[0m\u001b[0;34m\u001b[0m\u001b[0;34m\u001b[0m\u001b[0m\n\u001b[0;32m---> 29\u001b[0;31m     \u001b[0;32mreturn\u001b[0m \u001b[0mumr_minimum\u001b[0m\u001b[0;34m(\u001b[0m\u001b[0ma\u001b[0m\u001b[0;34m,\u001b[0m \u001b[0maxis\u001b[0m\u001b[0;34m,\u001b[0m \u001b[0;32mNone\u001b[0m\u001b[0;34m,\u001b[0m \u001b[0mout\u001b[0m\u001b[0;34m,\u001b[0m \u001b[0mkeepdims\u001b[0m\u001b[0;34m)\u001b[0m\u001b[0;34m\u001b[0m\u001b[0;34m\u001b[0m\u001b[0m\n\u001b[0m\u001b[1;32m     30\u001b[0m \u001b[0;34m\u001b[0m\u001b[0m\n\u001b[1;32m     31\u001b[0m \u001b[0;32mdef\u001b[0m \u001b[0m_sum\u001b[0m\u001b[0;34m(\u001b[0m\u001b[0ma\u001b[0m\u001b[0;34m,\u001b[0m \u001b[0maxis\u001b[0m\u001b[0;34m=\u001b[0m\u001b[0;32mNone\u001b[0m\u001b[0;34m,\u001b[0m \u001b[0mdtype\u001b[0m\u001b[0;34m=\u001b[0m\u001b[0;32mNone\u001b[0m\u001b[0;34m,\u001b[0m \u001b[0mout\u001b[0m\u001b[0;34m=\u001b[0m\u001b[0;32mNone\u001b[0m\u001b[0;34m,\u001b[0m \u001b[0mkeepdims\u001b[0m\u001b[0;34m=\u001b[0m\u001b[0;32mFalse\u001b[0m\u001b[0;34m)\u001b[0m\u001b[0;34m:\u001b[0m\u001b[0;34m\u001b[0m\u001b[0;34m\u001b[0m\u001b[0m\n",
            "\u001b[0;31mAxisError\u001b[0m: axis 269 is out of bounds for array of dimension 2"
          ]
        }
      ]
    },
    {
      "metadata": {
        "id": "mcM-dtS_7vBm",
        "colab_type": "code",
        "colab": {}
      },
      "cell_type": "code",
      "source": [
        ""
      ],
      "execution_count": 0,
      "outputs": []
    },
    {
      "metadata": {
        "id": "kJUpTvI7zw_w",
        "colab_type": "code",
        "colab": {}
      },
      "cell_type": "code",
      "source": [
        "def train2(make_model, n = 5, optimizer = lambda: 'rmsprop', callbacks = lambda: [EarlyStopping(patience=5, verbose=1)], verbose=0):\n",
        "    # given a model, train it for n times and plot the associated metrics\n",
        "    # make_model, optimizer and callbacks should be provided as a function as each time the functions are called, brand new instances are created in the for loop below. Use this because can't use deepcopy\n",
        "\n",
        "    models = [] # to hold the model weights\n",
        "    hists = [] # contains all the history\n",
        "    \n",
        "    make_model(None).summary()\n",
        "    \n",
        "    plt.figure(figsize=(4 * (n + 2), 8)) # the figure\n",
        "\n",
        "    for i in range(n):\n",
        "        model = make_model(i)\n",
        "        model.compile(loss='binary_crossentropy', optimizer=optimizer(), metrics=['accuracy'])\n",
        "        hist = model.fit(X_train2, y_train2, batch_size=256, epochs=100, validation_data=(X_val2, y_val2), callbacks=callbacks(), verbose=verbose)        \n",
        "        hists.append(hist)\n",
        "        \n",
        "        models.append(model) # store the model\n",
        "#         model.set_weights(initial_weights) # restore to the original weights\n",
        "\n",
        "        r = range(2, len(hist.history['acc']) + 1) # starting from epoch 2, ignore the first epoch\n",
        "        plt.subplot(2, n + 1, i + 2) # plot the loss history, starting with subplot 3\n",
        "        plt.plot(r, hist.history['loss'][1:], '.-', label='Train loss') # ignore the first epoch\n",
        "        plt.plot(r, hist.history['val_loss'][1:], '.-', label='Val loss')\n",
        "        plt.legend()\n",
        "        \n",
        "        plt.subplot(2, n + 1, i + 2 + n + 1) # plot the acc history, starting with subplot 3\n",
        "        plt.plot(r, hist.history['acc'][1:], '.-', label='Train acc')\n",
        "        plt.plot(r, hist.history['val_acc'][1:], '.-', label='Val acc')\n",
        "        plt.legend()\n",
        "\n",
        "    \n",
        "    plt.subplot(2, n + 1, 1) # plot the loss summary at the first subplot\n",
        "    metrics = ['loss'] * n + ['val_loss'] * n \n",
        "    values = np.concatenate([\n",
        "        [i.history['loss'][-1] for i in hists],\n",
        "        [i.history['val_loss'][-1] for i in hists],\n",
        "    ])\n",
        "    plt.plot(metrics, values, '.')\n",
        "    plt.ylabel('Loss')\n",
        "    values = values.reshape(2, -1)\n",
        "    print('Loss', *values)\n",
        "    print('Mean', values.mean(1), 'Std', values.std(1))\n",
        "    \n",
        "    plt.subplot(2, n + 1, n + 2) # plot the acc summary at the second subplot\n",
        "    metrics = ['acc'] * n + ['val_acc'] * n\n",
        "    values = np.concatenate([\n",
        "        [i.history['acc'][-1] for i in hists],\n",
        "        [i.history['val_acc'][-1] for i in hists]\n",
        "    ])\n",
        "    plt.plot(metrics, values, '.')\n",
        "    plt.ylabel('Accuracy')\n",
        "    values = values.reshape(2, -1)\n",
        "    print('\\nAcc', *values)\n",
        "    print('Mean', values.mean(1), 'Std', values.std(1))\n",
        "\n",
        "    plt.tight_layout()\n",
        "    \n",
        "    return models, hists\n"
      ],
      "execution_count": 0,
      "outputs": []
    },
    {
      "metadata": {
        "id": "_DIOUph5u29M",
        "colab_type": "code",
        "colab": {}
      },
      "cell_type": "code",
      "source": [
        "%%time\n",
        "_ = train(lambda x: Sequential([\n",
        "    Conv2D(32, kernel_size=3, strides=1, activation='relu', input_shape=(480, 270, 1)),\n",
        "    Flatten(),\n",
        "    Dense(1, activation='sigmoid')    \n",
        "]))"
      ],
      "execution_count": 0,
      "outputs": []
    },
    {
      "metadata": {
        "id": "YEPhhoj-rgtR",
        "colab_type": "code",
        "colab": {
          "base_uri": "https://localhost:8080/",
          "height": 54
        },
        "outputId": "a6bb2367-12a0-4b70-addd-406474da7256"
      },
      "cell_type": "code",
      "source": [
        ""
      ],
      "execution_count": 7,
      "outputs": [
        {
          "output_type": "execute_result",
          "data": {
            "text/plain": [
              "<480x270 sparse matrix of type '<class 'numpy.float64'>'\n",
              "\twith 17 stored elements in Compressed Sparse Row format>"
            ]
          },
          "metadata": {
            "tags": []
          },
          "execution_count": 7
        }
      ]
    }
  ]
}