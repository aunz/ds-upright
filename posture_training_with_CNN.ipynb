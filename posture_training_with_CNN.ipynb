{
  "nbformat": 4,
  "nbformat_minor": 0,
  "metadata": {
    "colab": {
      "name": "posture_training_with_CNN.ipynb",
      "version": "0.3.2",
      "provenance": [],
      "collapsed_sections": [],
      "toc_visible": true
    },
    "kernelspec": {
      "name": "python3",
      "display_name": "Python 3"
    },
    "accelerator": "GPU"
  },
  "cells": [
    {
      "metadata": {
        "id": "PVqso2_nL4Vt",
        "colab_type": "code",
        "colab": {}
      },
      "cell_type": "code",
      "source": [
        "import numpy as np\n",
        "import pandas as pd\n",
        "import matplotlib.pyplot as plt\n",
        "\n",
        "from IPython.display import clear_output\n",
        "\n",
        "!pip install tensorflowjs # for exporting model to js, install this before loading keras\n",
        "\n",
        "from keras.models import Sequential\n",
        "from keras.layers import Dense, Activation, Conv2D, SeparableConv2D, MaxPooling2D, AveragePooling2D, GlobalMaxPooling2D, BatchNormalization, Flatten, Dropout, InputLayer\n",
        "from keras.optimizers import Adam, Adamax, RMSprop\n",
        "from keras.callbacks import EarlyStopping, ReduceLROnPlateau\n",
        "from keras.preprocessing.image import ImageDataGenerator\n",
        "\n",
        "from keras.preprocessing.image import ImageDataGenerator, array_to_img, img_to_array, load_img\n",
        "\n",
        "from tensorflowjs.converters import save_keras_model\n",
        "\n",
        "clear_output()"
      ],
      "execution_count": 0,
      "outputs": []
    },
    {
      "metadata": {
        "id": "bxtNQqjLZjUb",
        "colab_type": "text"
      },
      "cell_type": "markdown",
      "source": [
        "## Import data from Google Drive "
      ]
    },
    {
      "metadata": {
        "id": "La7aqegmNq7v",
        "colab_type": "code",
        "colab": {}
      },
      "cell_type": "code",
      "source": [
        "# __import__('google.colab.files', fromlist=[None]).upload() # too slow to upload\n",
        "# __import__('google.colab.drive', fromlist=[None]).mount('/content/gdrive') # mount the entire drive\n",
        "\n",
        "!pip install PyDrive\n",
        "\n",
        "from pydrive.auth import GoogleAuth\n",
        "from pydrive.drive import GoogleDrive\n",
        "from google.colab import auth\n",
        "from oauth2client.client import GoogleCredentials\n",
        "\n",
        "auth.authenticate_user()\n",
        "gauth = GoogleAuth()\n",
        "gauth.credentials = GoogleCredentials.get_application_default()\n",
        "drive = GoogleDrive(gauth)\n",
        "\n",
        "download = drive.CreateFile({'id': '1D7NEp6r4LslueEGRWrTDVE7s_61i2RW3'})\n",
        "download.GetContentFile('data_img.zip')\n",
        "\n",
        "!unzip -qq data_img.zip\n",
        "\n",
        "del auth, gauth, drive, download\n",
        "\n",
        "clear_output()"
      ],
      "execution_count": 0,
      "outputs": []
    },
    {
      "metadata": {
        "id": "EUhk5ooxhNGm",
        "colab_type": "code",
        "colab": {}
      },
      "cell_type": "code",
      "source": [
        "# move the files into their respective dirs: train, val, test\n",
        "import os\n",
        "\n",
        "for i in ['train/a', 'train/b', 'val/a', 'val/b', 'test/a', 'test/b']: os.makedirs(i, exist_ok=True)\n",
        "\n",
        "def tmp(x):\n",
        "    files = os.listdir(x)\n",
        "    indexes = np.random.permutation(len(files))\n",
        "    indexes_train = indexes[:round(len(indexes) * 0.6)]\n",
        "    indexes_val = indexes[round(len(indexes) * 0.6):round(len(indexes) * 0.8)]\n",
        "    indexes_test = indexes[round(len(indexes) * 0.8):]\n",
        "    for i in indexes_train:\n",
        "        file = files[i]\n",
        "        os.rename(x + '/' + file, 'train/' + x + '/' + file)\n",
        "    for i in indexes_val:\n",
        "        file = files[i]\n",
        "        os.rename(x + '/' + file, 'val/' + x + '/' + file)\n",
        "    for i in indexes_test:\n",
        "        file = files[i]\n",
        "        os.rename(x + '/' + file, 'test/' + x + '/' + file)\n",
        "\n",
        "np.random.seed(0)       \n",
        "tmp('a')\n",
        "tmp('b')\n",
        "\n",
        "del os, tmp"
      ],
      "execution_count": 0,
      "outputs": []
    },
    {
      "metadata": {
        "id": "To7oHrsJYZMa",
        "colab_type": "code",
        "outputId": "5d92d092-fb06-4880-a528-fa7a546989db",
        "colab": {
          "base_uri": "https://localhost:8080/",
          "height": 54
        }
      },
      "cell_type": "code",
      "source": [
        "h = 135\n",
        "w = 240\n",
        "\n",
        "datagen = ImageDataGenerator(\n",
        "    rescale=1./255,\n",
        "#     featurewise_center=True,\n",
        "#     featurewise_std_normalization=True,\n",
        "    rotation_range=10,\n",
        "    width_shift_range=0.15,\n",
        "    height_shift_range=0.05,\n",
        "    horizontal_flip=True,\n",
        "#     shear_range=0.2,\n",
        "    zoom_range=0.2,\n",
        ")\n",
        "\n",
        "opts = {\n",
        "    'target_size': (h, w),\n",
        "    'batch_size': 256,\n",
        "    'class_mode': 'binary',\n",
        "    'color_mode': 'grayscale',\n",
        "    'seed': 0,\n",
        "}\n",
        "train_generator = datagen.flow_from_directory('train', **opts)\n",
        "val_generator = datagen.flow_from_directory('val', **opts)\n"
      ],
      "execution_count": 7,
      "outputs": [
        {
          "output_type": "stream",
          "text": [
            "Found 12559 images belonging to 2 classes.\n",
            "Found 4187 images belonging to 2 classes.\n"
          ],
          "name": "stdout"
        }
      ]
    },
    {
      "metadata": {
        "id": "jOrId4yLgnw_",
        "colab_type": "code",
        "colab": {}
      },
      "cell_type": "code",
      "source": [
        "# 3 layers of Conv2D, 1.8M params, not good, 0.5 accu!\n",
        "\n",
        "model = Sequential()\n",
        "model.add(Conv2D(32, (3, 3), input_shape=(h, w, 1)))\n",
        "model.add(BatchNormalization())\n",
        "model.add(Activation('relu'))\n",
        "model.add(MaxPooling2D(pool_size=(2, 2)))\n",
        "\n",
        "model.add(Conv2D(32, (3, 3)))\n",
        "model.add(BatchNormalization())\n",
        "model.add(Activation('relu'))\n",
        "model.add(MaxPooling2D(pool_size=(2, 2)))\n",
        "\n",
        "model.add(Conv2D(64, (3, 3)))\n",
        "model.add(BatchNormalization())\n",
        "model.add(Activation('relu'))\n",
        "model.add(MaxPooling2D(pool_size=(2, 2)))\n",
        "\n",
        "model.add(Flatten())\n",
        "model.add(Dense(64))\n",
        "model.add(Activation('relu'))\n",
        "model.add(Dropout(0.5))\n",
        "model.add(Dense(1))\n",
        "model.add(Activation('sigmoid'))\n",
        "\n",
        "model.summary()\n",
        "\n",
        "model.compile(loss='binary_crossentropy', optimizer='adam', metrics=['accuracy'])\n",
        "\n",
        "hist = model.fit_generator(\n",
        "    train_generator,\n",
        "    steps_per_epoch=200,\n",
        "    epochs=20,\n",
        "    validation_data=val_generator,\n",
        "    validation_steps=40\n",
        ")\n",
        "\n",
        "save_keras_model(model, './model_cnn_5')"
      ],
      "execution_count": 0,
      "outputs": []
    },
    {
      "metadata": {
        "id": "-ghq8rdWaHue",
        "colab_type": "code",
        "colab": {}
      },
      "cell_type": "code",
      "source": [
        "# draw some random imgs\n",
        "\n",
        "plt.figure(figsize=(16, 9))\n",
        "\n",
        "imgs = next(train_generator)\n",
        "for i in range(1, 13):\n",
        "    plt.subplot(3, 4, i)\n",
        "    plt.imshow(imgs[0][i].reshape(135, 240), cmap='gray')\n",
        "    plt.annotate(int(imgs[1][i]), (0, 0))\n",
        "    plt.axis('off')\n",
        "    plt.grid(False)\n",
        "    \n",
        "plt.tight_layout()\n",
        "\n",
        "del imgs"
      ],
      "execution_count": 0,
      "outputs": []
    },
    {
      "metadata": {
        "id": "f88L9weQYoYK",
        "colab_type": "code",
        "outputId": "90927769-d734-4fc4-cc1f-6a00bdcd8fd6",
        "colab": {
          "base_uri": "https://localhost:8080/",
          "height": 1157
        }
      },
      "cell_type": "code",
      "source": [
        "# adjust layers to lower the number of params, onlyl ~62k params\n",
        "\n",
        "model = Sequential()\n",
        "model.add(Conv2D(32, 3, padding='Same', activation='relu', input_shape=(135, 240, 1)))\n",
        "model.add(Conv2D(32, 3, padding='Same', activation='relu'))\n",
        "model.add(MaxPooling2D())\n",
        "model.add(BatchNormalization())\n",
        "model.add(Dropout(0.25))\n",
        "model.add(Conv2D(32, 3, padding='Same', activation='relu'))\n",
        "model.add(Conv2D(32, 3, padding='Same', activation='relu'))\n",
        "model.add(MaxPooling2D())\n",
        "model.add(BatchNormalization())\n",
        "model.add(Dropout(0.25))\n",
        "model.add(Conv2D(32, 3, padding='Same', activation='relu'))\n",
        "model.add(Conv2D(32, 3, padding='Same', activation='relu'))\n",
        "model.add(MaxPooling2D())\n",
        "model.add(BatchNormalization())\n",
        "model.add(Dropout(0.25))\n",
        "model.add(Flatten())\n",
        "model.add(Dense(1, activation='sigmoid'))\n",
        "\n",
        "model.summary()\n",
        "\n",
        "model.compile(loss='binary_crossentropy', optimizer='adamax', metrics=['accuracy'])\n",
        "\n",
        "hist = model.fit_generator(\n",
        "    train_generator,\n",
        "    steps_per_epoch=200,\n",
        "    epochs=10,\n",
        "    validation_data=val_generator,\n",
        "    validation_steps=40,\n",
        "    verbose=1\n",
        ")\n",
        "\n",
        "save_keras_model(model, './model_cnn_6')"
      ],
      "execution_count": 0,
      "outputs": [
        {
          "output_type": "stream",
          "text": [
            "_________________________________________________________________\n",
            "Layer (type)                 Output Shape              Param #   \n",
            "=================================================================\n",
            "conv2d_7 (Conv2D)            (None, 135, 240, 32)      320       \n",
            "_________________________________________________________________\n",
            "conv2d_8 (Conv2D)            (None, 135, 240, 32)      9248      \n",
            "_________________________________________________________________\n",
            "max_pooling2d_4 (MaxPooling2 (None, 67, 120, 32)       0         \n",
            "_________________________________________________________________\n",
            "batch_normalization_4 (Batch (None, 67, 120, 32)       128       \n",
            "_________________________________________________________________\n",
            "dropout_4 (Dropout)          (None, 67, 120, 32)       0         \n",
            "_________________________________________________________________\n",
            "conv2d_9 (Conv2D)            (None, 67, 120, 32)       9248      \n",
            "_________________________________________________________________\n",
            "conv2d_10 (Conv2D)           (None, 67, 120, 32)       9248      \n",
            "_________________________________________________________________\n",
            "max_pooling2d_5 (MaxPooling2 (None, 33, 60, 32)        0         \n",
            "_________________________________________________________________\n",
            "batch_normalization_5 (Batch (None, 33, 60, 32)        128       \n",
            "_________________________________________________________________\n",
            "dropout_5 (Dropout)          (None, 33, 60, 32)        0         \n",
            "_________________________________________________________________\n",
            "conv2d_11 (Conv2D)           (None, 33, 60, 32)        9248      \n",
            "_________________________________________________________________\n",
            "conv2d_12 (Conv2D)           (None, 33, 60, 32)        9248      \n",
            "_________________________________________________________________\n",
            "max_pooling2d_6 (MaxPooling2 (None, 16, 30, 32)        0         \n",
            "_________________________________________________________________\n",
            "batch_normalization_6 (Batch (None, 16, 30, 32)        128       \n",
            "_________________________________________________________________\n",
            "dropout_6 (Dropout)          (None, 16, 30, 32)        0         \n",
            "_________________________________________________________________\n",
            "flatten_2 (Flatten)          (None, 15360)             0         \n",
            "_________________________________________________________________\n",
            "dense_2 (Dense)              (None, 1)                 15361     \n",
            "=================================================================\n",
            "Total params: 62,305\n",
            "Trainable params: 62,113\n",
            "Non-trainable params: 192\n",
            "_________________________________________________________________\n",
            "Epoch 1/10\n",
            "200/200 [==============================] - 374s 2s/step - loss: 0.4003 - acc: 0.8264 - val_loss: 1.2727 - val_acc: 0.5169\n",
            "Epoch 2/10\n",
            "200/200 [==============================] - 359s 2s/step - loss: 0.1062 - acc: 0.9644 - val_loss: 0.3525 - val_acc: 0.8302\n",
            "Epoch 3/10\n",
            "200/200 [==============================] - 361s 2s/step - loss: 0.0636 - acc: 0.9794 - val_loss: 0.5804 - val_acc: 0.7773\n",
            "Epoch 4/10\n",
            "200/200 [==============================] - 361s 2s/step - loss: 0.0450 - acc: 0.9852 - val_loss: 0.5650 - val_acc: 0.7769\n",
            "Epoch 5/10\n",
            "200/200 [==============================] - 362s 2s/step - loss: 0.0331 - acc: 0.9892 - val_loss: 0.2590 - val_acc: 0.8929\n",
            "Epoch 6/10\n",
            "200/200 [==============================] - 361s 2s/step - loss: 0.0280 - acc: 0.9909 - val_loss: 0.0410 - val_acc: 0.9869\n",
            "Epoch 7/10\n",
            "200/200 [==============================] - 360s 2s/step - loss: 0.0223 - acc: 0.9925 - val_loss: 0.0078 - val_acc: 0.9976\n",
            "Epoch 8/10\n",
            "200/200 [==============================] - 359s 2s/step - loss: 0.0157 - acc: 0.9946 - val_loss: 0.0976 - val_acc: 0.9619\n",
            "Epoch 9/10\n",
            "200/200 [==============================] - 363s 2s/step - loss: 0.0120 - acc: 0.9959 - val_loss: 0.0300 - val_acc: 0.9887\n",
            "Epoch 10/10\n",
            "200/200 [==============================] - 363s 2s/step - loss: 0.0129 - acc: 0.9960 - val_loss: 0.1342 - val_acc: 0.9484\n"
          ],
          "name": "stdout"
        }
      ]
    },
    {
      "metadata": {
        "id": "MJ-xxnZWK5KG",
        "colab_type": "code",
        "colab": {}
      },
      "cell_type": "code",
      "source": [
        ""
      ],
      "execution_count": 0,
      "outputs": []
    }
  ]
}