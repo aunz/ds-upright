{
  "nbformat": 4,
  "nbformat_minor": 0,
  "metadata": {
    "colab": {
      "name": "posture_training_with_CNN.ipynb",
      "version": "0.3.2",
      "provenance": [],
      "collapsed_sections": [],
      "toc_visible": true
    },
    "kernelspec": {
      "name": "python3",
      "display_name": "Python 3"
    },
    "accelerator": "GPU"
  },
  "cells": [
    {
      "metadata": {
        "id": "_hGwxvJkJo6V",
        "colab_type": "text"
      },
      "cell_type": "markdown",
      "source": [
        "# Classify postures using raw images with CNN"
      ]
    },
    {
      "metadata": {
        "id": "PVqso2_nL4Vt",
        "colab_type": "code",
        "colab": {}
      },
      "cell_type": "code",
      "source": [
        "import numpy as np\n",
        "import pandas as pd\n",
        "import matplotlib.pyplot as plt\n",
        "\n",
        "from IPython.display import clear_output\n",
        "\n",
        "!pip install tensorflowjs # for exporting model to js, install this before loading keras\n",
        "\n",
        "from keras.models import Sequential\n",
        "from keras.layers import Dense, Activation, Conv2D, SeparableConv2D, MaxPooling2D, AveragePooling2D, GlobalMaxPooling2D, BatchNormalization, Flatten, Dropout, InputLayer\n",
        "from keras.optimizers import Adam, Adamax, RMSprop\n",
        "from keras.callbacks import EarlyStopping, ReduceLROnPlateau\n",
        "from keras.preprocessing.image import ImageDataGenerator\n",
        "\n",
        "from keras.preprocessing.image import ImageDataGenerator, array_to_img, img_to_array, load_img\n",
        "\n",
        "from tensorflowjs.converters import save_keras_model\n",
        "\n",
        "clear_output()"
      ],
      "execution_count": 0,
      "outputs": []
    },
    {
      "metadata": {
        "id": "bxtNQqjLZjUb",
        "colab_type": "text"
      },
      "cell_type": "markdown",
      "source": [
        "## Import data from Google Drive "
      ]
    },
    {
      "metadata": {
        "id": "La7aqegmNq7v",
        "colab_type": "code",
        "colab": {}
      },
      "cell_type": "code",
      "source": [
        "# __import__('google.colab.files', fromlist=[None]).upload() # too slow to upload\n",
        "# __import__('google.colab.drive', fromlist=[None]).mount('/content/gdrive') # mount the entire drive\n",
        "\n",
        "!pip install PyDrive\n",
        "\n",
        "from pydrive.auth import GoogleAuth\n",
        "from pydrive.drive import GoogleDrive\n",
        "from google.colab import auth\n",
        "from oauth2client.client import GoogleCredentials\n",
        "\n",
        "auth.authenticate_user()\n",
        "gauth = GoogleAuth()\n",
        "gauth.credentials = GoogleCredentials.get_application_default()\n",
        "drive = GoogleDrive(gauth)\n",
        "\n",
        "download = drive.CreateFile({'id': '1D7NEp6r4LslueEGRWrTDVE7s_61i2RW3'})\n",
        "download.GetContentFile('data_img.zip')\n",
        "\n",
        "!unzip -qq data_img.zip\n",
        "\n",
        "del auth, gauth, drive, download\n",
        "\n",
        "clear_output()"
      ],
      "execution_count": 0,
      "outputs": []
    },
    {
      "metadata": {
        "id": "24yOw40DJ1_L",
        "colab_type": "text"
      },
      "cell_type": "markdown",
      "source": [
        "## Split images into train/val/test directories"
      ]
    },
    {
      "metadata": {
        "id": "EUhk5ooxhNGm",
        "colab_type": "code",
        "colab": {}
      },
      "cell_type": "code",
      "source": [
        "# move the files into their respective dirs: train, val, test\n",
        "import os\n",
        "\n",
        "for i in ['train/a', 'train/b', 'val/a', 'val/b', 'test/a', 'test/b']: os.makedirs(i, exist_ok=True)\n",
        "\n",
        "def tmp(x):\n",
        "    files = os.listdir(x)\n",
        "    indexes = np.random.permutation(len(files))\n",
        "    indexes_train = indexes[:round(len(indexes) * 0.6)]\n",
        "    indexes_val = indexes[round(len(indexes) * 0.6):round(len(indexes) * 0.8)]\n",
        "    indexes_test = indexes[round(len(indexes) * 0.8):]\n",
        "    for i in indexes_train:\n",
        "        file = files[i]\n",
        "        os.rename(x + '/' + file, 'train/' + x + '/' + file)\n",
        "    for i in indexes_val:\n",
        "        file = files[i]\n",
        "        os.rename(x + '/' + file, 'val/' + x + '/' + file)\n",
        "    for i in indexes_test:\n",
        "        file = files[i]\n",
        "        os.rename(x + '/' + file, 'test/' + x + '/' + file)\n",
        "\n",
        "np.random.seed(0)       \n",
        "tmp('a')\n",
        "tmp('b')\n",
        "\n",
        "del os, tmp"
      ],
      "execution_count": 0,
      "outputs": []
    },
    {
      "metadata": {
        "id": "Mtp7GT6CJxiX",
        "colab_type": "text"
      },
      "cell_type": "markdown",
      "source": [
        "## Data generator with image augmentation"
      ]
    },
    {
      "metadata": {
        "id": "To7oHrsJYZMa",
        "colab_type": "code",
        "outputId": "b12f6ef4-9988-47f5-dbf6-eaff98dd8fbe",
        "colab": {
          "base_uri": "https://localhost:8080/",
          "height": 54
        }
      },
      "cell_type": "code",
      "source": [
        "h = 135\n",
        "w = 240\n",
        "\n",
        "datagen = ImageDataGenerator(\n",
        "    rescale=1./255,\n",
        "#     featurewise_center=True,\n",
        "#     featurewise_std_normalization=True,\n",
        "    rotation_range=10,\n",
        "    width_shift_range=0.15,\n",
        "    height_shift_range=0.05,\n",
        "    horizontal_flip=True,\n",
        "#     shear_range=0.2,\n",
        "    zoom_range=0.2,\n",
        ")\n",
        "\n",
        "opts = {\n",
        "    'target_size': (h, w),\n",
        "    'batch_size': 256,\n",
        "    'class_mode': 'binary',\n",
        "    'color_mode': 'grayscale',\n",
        "    'seed': 0,\n",
        "}\n",
        "train_generator = datagen.flow_from_directory('train', **opts)\n",
        "val_generator = datagen.flow_from_directory('val', **opts)\n"
      ],
      "execution_count": 0,
      "outputs": [
        {
          "output_type": "stream",
          "text": [
            "Found 12559 images belonging to 2 classes.\n",
            "Found 4187 images belonging to 2 classes.\n"
          ],
          "name": "stdout"
        }
      ]
    },
    {
      "metadata": {
        "id": "PSlJImYgJiu1",
        "colab_type": "text"
      },
      "cell_type": "markdown",
      "source": [
        "## Model_CNN_raw_1"
      ]
    },
    {
      "metadata": {
        "id": "jOrId4yLgnw_",
        "colab_type": "code",
        "outputId": "86a9556f-0133-44dd-972c-d60bbf729bf9",
        "colab": {
          "base_uri": "https://localhost:8080/",
          "height": 1561
        }
      },
      "cell_type": "code",
      "source": [
        "# 3 layers of Conv2D, 1.8M params, not good, 0.5 accu!\n",
        "\n",
        "model = Sequential()\n",
        "model.add(Conv2D(32, (3, 3), input_shape=(h, w, 1)))\n",
        "model.add(BatchNormalization())\n",
        "model.add(Activation('relu'))\n",
        "model.add(MaxPooling2D(pool_size=(2, 2)))\n",
        "\n",
        "model.add(Conv2D(32, (3, 3)))\n",
        "model.add(BatchNormalization())\n",
        "model.add(Activation('relu'))\n",
        "model.add(MaxPooling2D(pool_size=(2, 2)))\n",
        "\n",
        "model.add(Conv2D(64, (3, 3)))\n",
        "model.add(BatchNormalization())\n",
        "model.add(Activation('relu'))\n",
        "model.add(MaxPooling2D(pool_size=(2, 2)))\n",
        "\n",
        "model.add(Flatten())\n",
        "model.add(Dense(64))\n",
        "model.add(Activation('relu'))\n",
        "model.add(Dropout(0.5))\n",
        "model.add(Dense(1))\n",
        "model.add(Activation('sigmoid'))\n",
        "\n",
        "model.summary()\n",
        "\n",
        "model.compile(loss='binary_crossentropy', optimizer='adam', metrics=['accuracy'])\n",
        "\n",
        "hist = model.fit_generator(\n",
        "    train_generator,\n",
        "    steps_per_epoch=200,\n",
        "    epochs=20,\n",
        "    validation_data=val_generator,\n",
        "    validation_steps=40\n",
        ")\n",
        "\n",
        "save_keras_model(model, './model_cnn_raw_1')\n",
        "!zip -rqq model_cnn_raw_1.zip model_cnn_raw_1\n"
      ],
      "execution_count": 0,
      "outputs": [
        {
          "output_type": "stream",
          "text": [
            "_________________________________________________________________\n",
            "Layer (type)                 Output Shape              Param #   \n",
            "=================================================================\n",
            "conv2d_1 (Conv2D)            (None, 133, 238, 32)      320       \n",
            "_________________________________________________________________\n",
            "batch_normalization_1 (Batch (None, 133, 238, 32)      128       \n",
            "_________________________________________________________________\n",
            "activation_1 (Activation)    (None, 133, 238, 32)      0         \n",
            "_________________________________________________________________\n",
            "max_pooling2d_1 (MaxPooling2 (None, 66, 119, 32)       0         \n",
            "_________________________________________________________________\n",
            "conv2d_2 (Conv2D)            (None, 64, 117, 32)       9248      \n",
            "_________________________________________________________________\n",
            "batch_normalization_2 (Batch (None, 64, 117, 32)       128       \n",
            "_________________________________________________________________\n",
            "activation_2 (Activation)    (None, 64, 117, 32)       0         \n",
            "_________________________________________________________________\n",
            "max_pooling2d_2 (MaxPooling2 (None, 32, 58, 32)        0         \n",
            "_________________________________________________________________\n",
            "conv2d_3 (Conv2D)            (None, 30, 56, 64)        18496     \n",
            "_________________________________________________________________\n",
            "batch_normalization_3 (Batch (None, 30, 56, 64)        256       \n",
            "_________________________________________________________________\n",
            "activation_3 (Activation)    (None, 30, 56, 64)        0         \n",
            "_________________________________________________________________\n",
            "max_pooling2d_3 (MaxPooling2 (None, 15, 28, 64)        0         \n",
            "_________________________________________________________________\n",
            "flatten_1 (Flatten)          (None, 26880)             0         \n",
            "_________________________________________________________________\n",
            "dense_1 (Dense)              (None, 64)                1720384   \n",
            "_________________________________________________________________\n",
            "activation_4 (Activation)    (None, 64)                0         \n",
            "_________________________________________________________________\n",
            "dropout_1 (Dropout)          (None, 64)                0         \n",
            "_________________________________________________________________\n",
            "dense_2 (Dense)              (None, 1)                 65        \n",
            "_________________________________________________________________\n",
            "activation_5 (Activation)    (None, 1)                 0         \n",
            "=================================================================\n",
            "Total params: 1,749,025\n",
            "Trainable params: 1,748,769\n",
            "Non-trainable params: 256\n",
            "_________________________________________________________________\n",
            "Epoch 1/20\n",
            "200/200 [==============================] - 353s 2s/step - loss: 7.9437 - acc: 0.4996 - val_loss: 8.0001 - val_acc: 0.4982\n",
            "Epoch 2/20\n",
            "200/200 [==============================] - 342s 2s/step - loss: 7.9482 - acc: 0.5014 - val_loss: 7.9712 - val_acc: 0.5000\n",
            "Epoch 3/20\n",
            "200/200 [==============================] - 336s 2s/step - loss: 6.5911 - acc: 0.5020 - val_loss: 8.0946 - val_acc: 0.4978\n",
            "Epoch 4/20\n",
            "200/200 [==============================] - 342s 2s/step - loss: 6.1929 - acc: 0.5004 - val_loss: 8.0509 - val_acc: 0.5005\n",
            "Epoch 5/20\n",
            "200/200 [==============================] - 338s 2s/step - loss: 6.1864 - acc: 0.5026 - val_loss: 8.0086 - val_acc: 0.5031\n",
            "Epoch 6/20\n",
            "200/200 [==============================] - 337s 2s/step - loss: 6.2018 - acc: 0.5007 - val_loss: 8.0615 - val_acc: 0.4998\n",
            "Epoch 7/20\n",
            "200/200 [==============================] - 339s 2s/step - loss: 6.2317 - acc: 0.4998 - val_loss: 8.0607 - val_acc: 0.4999\n",
            "Epoch 8/20\n",
            "200/200 [==============================] - 338s 2s/step - loss: 6.2817 - acc: 0.4995 - val_loss: 8.0704 - val_acc: 0.4993\n",
            "Epoch 9/20\n",
            "200/200 [==============================] - 337s 2s/step - loss: 6.2754 - acc: 0.5001 - val_loss: 8.0384 - val_acc: 0.5013\n",
            "Epoch 10/20\n",
            "200/200 [==============================] - 338s 2s/step - loss: 6.2045 - acc: 0.5001 - val_loss: 8.0883 - val_acc: 0.4982\n",
            "Epoch 11/20\n",
            "200/200 [==============================] - 339s 2s/step - loss: 6.2028 - acc: 0.5032 - val_loss: 8.0249 - val_acc: 0.5021\n",
            "Epoch 12/20\n",
            "200/200 [==============================] - 338s 2s/step - loss: 6.2108 - acc: 0.4992 - val_loss: 8.0533 - val_acc: 0.5004\n",
            "Epoch 13/20\n",
            "200/200 [==============================] - 338s 2s/step - loss: 6.2420 - acc: 0.5001 - val_loss: 8.0851 - val_acc: 0.4984\n",
            "Epoch 14/20\n",
            "200/200 [==============================] - 337s 2s/step - loss: 6.2365 - acc: 0.4986 - val_loss: 8.0249 - val_acc: 0.5021\n",
            "Epoch 15/20\n",
            "200/200 [==============================] - 336s 2s/step - loss: 6.1895 - acc: 0.5002 - val_loss: 8.0334 - val_acc: 0.5016\n",
            "Epoch 16/20\n",
            "200/200 [==============================] - 337s 2s/step - loss: 6.1794 - acc: 0.5011 - val_loss: 8.0233 - val_acc: 0.5022\n",
            "Epoch 17/20\n",
            "200/200 [==============================] - 336s 2s/step - loss: 6.1989 - acc: 0.4987 - val_loss: 8.0996 - val_acc: 0.4975\n",
            "Epoch 18/20\n",
            "200/200 [==============================] - 332s 2s/step - loss: 6.2155 - acc: 0.4979 - val_loss: 8.0590 - val_acc: 0.5000\n",
            "Epoch 19/20\n",
            "200/200 [==============================] - 331s 2s/step - loss: 6.1837 - acc: 0.5004 - val_loss: 8.0379 - val_acc: 0.5013\n",
            "Epoch 20/20\n",
            "200/200 [==============================] - 327s 2s/step - loss: 6.2146 - acc: 0.4985 - val_loss: 8.0615 - val_acc: 0.4998\n"
          ],
          "name": "stdout"
        }
      ]
    },
    {
      "metadata": {
        "id": "JvfxuOTdKHwj",
        "colab_type": "text"
      },
      "cell_type": "markdown",
      "source": [
        "## Visualise some images"
      ]
    },
    {
      "metadata": {
        "id": "-ghq8rdWaHue",
        "colab_type": "code",
        "colab": {}
      },
      "cell_type": "code",
      "source": [
        "# draw some random imgs\n",
        "\n",
        "plt.figure(figsize=(16, 9))\n",
        "\n",
        "imgs = next(train_generator)\n",
        "for i in range(1, 13):\n",
        "    plt.subplot(3, 4, i)\n",
        "    plt.imshow(imgs[0][i].reshape(135, 240), cmap='gray')\n",
        "    plt.annotate(int(imgs[1][i]), (0, 0))\n",
        "    plt.axis('off')\n",
        "    plt.grid(False)\n",
        "    \n",
        "plt.tight_layout()\n",
        "\n",
        "del imgs"
      ],
      "execution_count": 0,
      "outputs": []
    },
    {
      "metadata": {
        "id": "yhDLiVZnKLKY",
        "colab_type": "text"
      },
      "cell_type": "markdown",
      "source": [
        "## Model_CNN_raw_2"
      ]
    },
    {
      "metadata": {
        "id": "f88L9weQYoYK",
        "colab_type": "code",
        "outputId": "7dcac34f-b26f-4810-e208-8ae7529958d3",
        "colab": {
          "base_uri": "https://localhost:8080/",
          "height": 1157
        }
      },
      "cell_type": "code",
      "source": [
        "# adjust layers to lower the number of params, onlyl ~62k params\n",
        "\n",
        "model = Sequential()\n",
        "model.add(Conv2D(32, 3, padding='Same', activation='relu', input_shape=(135, 240, 1)))\n",
        "model.add(Conv2D(32, 3, padding='Same', activation='relu'))\n",
        "model.add(MaxPooling2D())\n",
        "model.add(BatchNormalization())\n",
        "model.add(Dropout(0.25))\n",
        "model.add(Conv2D(32, 3, padding='Same', activation='relu'))\n",
        "model.add(Conv2D(32, 3, padding='Same', activation='relu'))\n",
        "model.add(MaxPooling2D())\n",
        "model.add(BatchNormalization())\n",
        "model.add(Dropout(0.25))\n",
        "model.add(Conv2D(32, 3, padding='Same', activation='relu'))\n",
        "model.add(Conv2D(32, 3, padding='Same', activation='relu'))\n",
        "model.add(MaxPooling2D())\n",
        "model.add(BatchNormalization())\n",
        "model.add(Dropout(0.25))\n",
        "model.add(Flatten())\n",
        "model.add(Dense(1, activation='sigmoid'))\n",
        "\n",
        "model.summary()\n",
        "\n",
        "model.compile(loss='binary_crossentropy', optimizer='adamax', metrics=['accuracy'])\n",
        "\n",
        "hist = model.fit_generator(\n",
        "    train_generator,\n",
        "    steps_per_epoch=200,\n",
        "    epochs=10,\n",
        "    validation_data=val_generator,\n",
        "    validation_steps=40,\n",
        "    verbose=1\n",
        ")\n",
        "\n",
        "save_keras_model(model, './model_cnn_raw_2')\n",
        "!zip -rqq model_cnn_raw_2.zip model_cnn_raw_2"
      ],
      "execution_count": 0,
      "outputs": [
        {
          "output_type": "stream",
          "text": [
            "_________________________________________________________________\n",
            "Layer (type)                 Output Shape              Param #   \n",
            "=================================================================\n",
            "conv2d_1 (Conv2D)            (None, 135, 240, 32)      320       \n",
            "_________________________________________________________________\n",
            "conv2d_2 (Conv2D)            (None, 135, 240, 32)      9248      \n",
            "_________________________________________________________________\n",
            "max_pooling2d_1 (MaxPooling2 (None, 67, 120, 32)       0         \n",
            "_________________________________________________________________\n",
            "batch_normalization_1 (Batch (None, 67, 120, 32)       128       \n",
            "_________________________________________________________________\n",
            "dropout_1 (Dropout)          (None, 67, 120, 32)       0         \n",
            "_________________________________________________________________\n",
            "conv2d_3 (Conv2D)            (None, 67, 120, 32)       9248      \n",
            "_________________________________________________________________\n",
            "conv2d_4 (Conv2D)            (None, 67, 120, 32)       9248      \n",
            "_________________________________________________________________\n",
            "max_pooling2d_2 (MaxPooling2 (None, 33, 60, 32)        0         \n",
            "_________________________________________________________________\n",
            "batch_normalization_2 (Batch (None, 33, 60, 32)        128       \n",
            "_________________________________________________________________\n",
            "dropout_2 (Dropout)          (None, 33, 60, 32)        0         \n",
            "_________________________________________________________________\n",
            "conv2d_5 (Conv2D)            (None, 33, 60, 32)        9248      \n",
            "_________________________________________________________________\n",
            "conv2d_6 (Conv2D)            (None, 33, 60, 32)        9248      \n",
            "_________________________________________________________________\n",
            "max_pooling2d_3 (MaxPooling2 (None, 16, 30, 32)        0         \n",
            "_________________________________________________________________\n",
            "batch_normalization_3 (Batch (None, 16, 30, 32)        128       \n",
            "_________________________________________________________________\n",
            "dropout_3 (Dropout)          (None, 16, 30, 32)        0         \n",
            "_________________________________________________________________\n",
            "flatten_1 (Flatten)          (None, 15360)             0         \n",
            "_________________________________________________________________\n",
            "dense_1 (Dense)              (None, 1)                 15361     \n",
            "=================================================================\n",
            "Total params: 62,305\n",
            "Trainable params: 62,113\n",
            "Non-trainable params: 192\n",
            "_________________________________________________________________\n",
            "Epoch 1/10\n",
            "200/200 [==============================] - 386s 2s/step - loss: 0.3493 - acc: 0.8456 - val_loss: 0.7525 - val_acc: 0.5911\n",
            "Epoch 2/10\n",
            "200/200 [==============================] - 362s 2s/step - loss: 0.0802 - acc: 0.9729 - val_loss: 0.3627 - val_acc: 0.8270\n",
            "Epoch 3/10\n",
            "200/200 [==============================] - 364s 2s/step - loss: 0.0471 - acc: 0.9849 - val_loss: 0.3376 - val_acc: 0.8486\n",
            "Epoch 4/10\n",
            "200/200 [==============================] - 364s 2s/step - loss: 0.0346 - acc: 0.9885 - val_loss: 0.0396 - val_acc: 0.9860\n",
            "Epoch 5/10\n",
            "200/200 [==============================] - 363s 2s/step - loss: 0.0262 - acc: 0.9914 - val_loss: 0.1758 - val_acc: 0.9246\n",
            "Epoch 6/10\n",
            "200/200 [==============================] - 364s 2s/step - loss: 0.0191 - acc: 0.9934 - val_loss: 0.2471 - val_acc: 0.8930\n",
            "Epoch 7/10\n",
            "200/200 [==============================] - 366s 2s/step - loss: 0.0145 - acc: 0.9951 - val_loss: 0.0156 - val_acc: 0.9949\n",
            "Epoch 8/10\n",
            "200/200 [==============================] - 364s 2s/step - loss: 0.0111 - acc: 0.9961 - val_loss: 0.0361 - val_acc: 0.9874\n",
            "Epoch 9/10\n",
            "200/200 [==============================] - 360s 2s/step - loss: 0.0101 - acc: 0.9967 - val_loss: 0.0693 - val_acc: 0.9742\n",
            "Epoch 10/10\n",
            "200/200 [==============================] - 364s 2s/step - loss: 0.0094 - acc: 0.9966 - val_loss: 0.0082 - val_acc: 0.9975\n"
          ],
          "name": "stdout"
        }
      ]
    }
  ]
}