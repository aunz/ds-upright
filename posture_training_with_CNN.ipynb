{
  "nbformat": 4,
  "nbformat_minor": 0,
  "metadata": {
    "colab": {
      "name": "posture_training_with_CNN.ipynb",
      "version": "0.3.2",
      "provenance": [],
      "collapsed_sections": [],
      "toc_visible": true
    },
    "kernelspec": {
      "name": "python3",
      "display_name": "Python 3"
    },
    "accelerator": "GPU"
  },
  "cells": [
    {
      "metadata": {
        "id": "PVqso2_nL4Vt",
        "colab_type": "code",
        "outputId": "be6815af-99ad-4131-d76b-54493dfcb6d8",
        "colab": {
          "base_uri": "https://localhost:8080/",
          "height": 35
        }
      },
      "cell_type": "code",
      "source": [
        "import numpy as np\n",
        "import pandas as pd\n",
        "import matplotlib.pyplot as plt\n",
        "\n",
        "from keras.models import Sequential\n",
        "from keras.layers import Dense, Activation, Conv2D, SeparableConv2D, MaxPooling2D, AveragePooling2D, GlobalMaxPooling2D, BatchNormalization, Flatten, Dropout, InputLayer\n",
        "from keras.optimizers import Adam, Adamax, RMSprop\n",
        "from keras.callbacks import EarlyStopping, ReduceLROnPlateau\n",
        "from keras.preprocessing.image import ImageDataGenerator\n",
        "\n",
        "from keras.preprocessing.image import ImageDataGenerator, array_to_img, img_to_array, load_img"
      ],
      "execution_count": 1,
      "outputs": [
        {
          "output_type": "stream",
          "text": [
            "Using TensorFlow backend.\n"
          ],
          "name": "stderr"
        }
      ]
    },
    {
      "metadata": {
        "id": "bxtNQqjLZjUb",
        "colab_type": "text"
      },
      "cell_type": "markdown",
      "source": [
        "## Import data from Google Drive "
      ]
    },
    {
      "metadata": {
        "id": "La7aqegmNq7v",
        "colab_type": "code",
        "colab": {}
      },
      "cell_type": "code",
      "source": [
        "# __import__('google.colab.files', fromlist=[None]).upload() # too slow to upload\n",
        "# __import__('google.colab.drive', fromlist=[None]).mount('/content/gdrive') # mount the entire drive\n",
        "\n",
        "!pip install PyDrive\n",
        "\n",
        "from pydrive.auth import GoogleAuth\n",
        "from pydrive.drive import GoogleDrive\n",
        "from google.colab import auth\n",
        "from oauth2client.client import GoogleCredentials\n",
        "\n",
        "auth.authenticate_user()\n",
        "gauth = GoogleAuth()\n",
        "gauth.credentials = GoogleCredentials.get_application_default()\n",
        "drive = GoogleDrive(gauth)\n",
        "\n",
        "download = drive.CreateFile({'id': '1D7NEp6r4LslueEGRWrTDVE7s_61i2RW3'})\n",
        "download.GetContentFile('data_img.zip')\n",
        "\n",
        "!unzip -qq data_img.zip\n",
        "\n",
        "del auth, gauth, drive, download\n",
        "\n",
        "__import__('IPython').display.clear_output()"
      ],
      "execution_count": 0,
      "outputs": []
    },
    {
      "metadata": {
        "id": "EUhk5ooxhNGm",
        "colab_type": "code",
        "colab": {}
      },
      "cell_type": "code",
      "source": [
        "# move the files into their respective dirs: train, val, test\n",
        "import os\n",
        "\n",
        "for i in ['train/a', 'train/b', 'val/a', 'val/b', 'test/a', 'test/b']: os.makedirs(i, exist_ok=True)\n",
        "\n",
        "def tmp(x):\n",
        "    files = os.listdir(x)\n",
        "    np.random.seed(0)\n",
        "    indexes = np.random.permutation(len(files))\n",
        "    indexes_train = indexes[:round(len(indexes) * 0.6)]\n",
        "    indexes_val = indexes[round(len(indexes) * 0.6):round(len(indexes) * 0.8)]\n",
        "    indexes_test = indexes[round(len(indexes) * 0.8):]\n",
        "    for i in indexes_train:\n",
        "        file = files[i]\n",
        "        os.rename(x + '/' + file, 'train/' + x + '/' + file)\n",
        "    for i in indexes_val:\n",
        "        file = files[i]\n",
        "        os.rename(x + '/' + file, 'val/' + x + '/' + file)\n",
        "    for i in indexes_test:\n",
        "        file = files[i]\n",
        "        os.rename(x + '/' + file, 'test/' + x + '/' + file)\n",
        "    \n",
        "tmp('a')\n",
        "tmp('b')\n",
        "\n",
        "del os, tmp"
      ],
      "execution_count": 0,
      "outputs": []
    },
    {
      "metadata": {
        "id": "jOrId4yLgnw_",
        "colab_type": "code",
        "outputId": "800d44be-430b-4c7f-babc-c1309b8fe507",
        "colab": {
          "base_uri": "https://localhost:8080/",
          "height": 880
        }
      },
      "cell_type": "code",
      "source": [
        "h = 135\n",
        "w = 240\n",
        "\n",
        "model = Sequential()\n",
        "model.add(Conv2D(32, (3, 3), input_shape=(h, w, 1)))\n",
        "model.add(BatchNormalization())\n",
        "model.add(Activation('relu'))\n",
        "model.add(MaxPooling2D(pool_size=(2, 2)))\n",
        "\n",
        "model.add(Conv2D(32, (3, 3)))\n",
        "model.add(BatchNormalization())\n",
        "model.add(Activation('relu'))\n",
        "model.add(MaxPooling2D(pool_size=(2, 2)))\n",
        "\n",
        "model.add(Conv2D(64, (3, 3)))\n",
        "model.add(BatchNormalization())\n",
        "model.add(Activation('relu'))\n",
        "model.add(MaxPooling2D(pool_size=(2, 2)))\n",
        "\n",
        "model.add(Flatten())\n",
        "model.add(Dense(64))\n",
        "model.add(Activation('relu'))\n",
        "model.add(Dropout(0.5))\n",
        "model.add(Dense(1))\n",
        "model.add(Activation('sigmoid'))\n",
        "\n",
        "model.summary()\n",
        "\n",
        "model.compile(loss='binary_crossentropy', optimizer='adamax', metrics=['accuracy'])\n",
        "\n",
        "datagen = ImageDataGenerator(\n",
        "    rescale=1./255,\n",
        "#     featurewise_center=True,\n",
        "#     featurewise_std_normalization=True,\n",
        "    rotation_range=10,\n",
        "    width_shift_range=0.15,\n",
        "    height_shift_range=0.05,\n",
        "    horizontal_flip=True,\n",
        "#     shear_range=0.2,\n",
        "    zoom_range=0.2,\n",
        ")\n",
        "\n",
        "opts = {\n",
        "    'target_size': (h, w),\n",
        "    'batch_size': 256,\n",
        "    'class_mode': 'binary',\n",
        "    'color_mode': 'grayscale',\n",
        "    'seed': 0,\n",
        "}\n",
        "train_generator = datagen.flow_from_directory('train', **opts)\n",
        "val_generator = datagen.flow_from_directory('val', **opts)\n",
        "\n",
        "\n",
        "hist = model.fit_generator(\n",
        "    train_generator,\n",
        "    steps_per_epoch=200,\n",
        "    epochs=50,\n",
        "    validation_data=val_generator,\n",
        "    validation_steps=40\n",
        ")\n",
        "\n",
        "# # plot\n",
        "# tmp = next(train_generator)[0][:10]\n",
        "# for i, img in enumerate(tmp):\n",
        "#     plt.figure()\n",
        "#     plt.imshow(img.reshape(135, 240));"
      ],
      "execution_count": 0,
      "outputs": [
        {
          "output_type": "stream",
          "text": [
            "_________________________________________________________________\n",
            "Layer (type)                 Output Shape              Param #   \n",
            "=================================================================\n",
            "conv2d_1 (Conv2D)            (None, 133, 238, 32)      320       \n",
            "_________________________________________________________________\n",
            "batch_normalization_1 (Batch (None, 133, 238, 32)      128       \n",
            "_________________________________________________________________\n",
            "activation_1 (Activation)    (None, 133, 238, 32)      0         \n",
            "_________________________________________________________________\n",
            "max_pooling2d_1 (MaxPooling2 (None, 66, 119, 32)       0         \n",
            "_________________________________________________________________\n",
            "conv2d_2 (Conv2D)            (None, 64, 117, 32)       9248      \n",
            "_________________________________________________________________\n",
            "batch_normalization_2 (Batch (None, 64, 117, 32)       128       \n",
            "_________________________________________________________________\n",
            "activation_2 (Activation)    (None, 64, 117, 32)       0         \n",
            "_________________________________________________________________\n",
            "max_pooling2d_2 (MaxPooling2 (None, 32, 58, 32)        0         \n",
            "_________________________________________________________________\n",
            "conv2d_3 (Conv2D)            (None, 30, 56, 64)        18496     \n",
            "_________________________________________________________________\n",
            "batch_normalization_3 (Batch (None, 30, 56, 64)        256       \n",
            "_________________________________________________________________\n",
            "activation_3 (Activation)    (None, 30, 56, 64)        0         \n",
            "_________________________________________________________________\n",
            "max_pooling2d_3 (MaxPooling2 (None, 15, 28, 64)        0         \n",
            "_________________________________________________________________\n",
            "flatten_1 (Flatten)          (None, 26880)             0         \n",
            "_________________________________________________________________\n",
            "dense_1 (Dense)              (None, 64)                1720384   \n",
            "_________________________________________________________________\n",
            "activation_4 (Activation)    (None, 64)                0         \n",
            "_________________________________________________________________\n",
            "dropout_1 (Dropout)          (None, 64)                0         \n",
            "_________________________________________________________________\n",
            "dense_2 (Dense)              (None, 1)                 65        \n",
            "_________________________________________________________________\n",
            "activation_5 (Activation)    (None, 1)                 0         \n",
            "=================================================================\n",
            "Total params: 1,749,025\n",
            "Trainable params: 1,748,769\n",
            "Non-trainable params: 256\n",
            "_________________________________________________________________\n",
            "Found 12559 images belonging to 2 classes.\n",
            "Found 4187 images belonging to 2 classes.\n",
            "Epoch 1/50\n",
            "199/200 [============================>.] - ETA: 1s - loss: 7.9417 - acc: 0.4996"
          ],
          "name": "stdout"
        }
      ]
    },
    {
      "metadata": {
        "id": "MJ-xxnZWK5KG",
        "colab_type": "code",
        "colab": {}
      },
      "cell_type": "code",
      "source": [
        ""
      ],
      "execution_count": 0,
      "outputs": []
    },
    {
      "metadata": {
        "id": "ybCqIn15HkPM",
        "colab_type": "code",
        "colab": {}
      },
      "cell_type": "code",
      "source": [
        ""
      ],
      "execution_count": 0,
      "outputs": []
    },
    {
      "metadata": {
        "id": "ujGWLd2wVDvH",
        "colab_type": "code",
        "colab": {}
      },
      "cell_type": "code",
      "source": [
        ""
      ],
      "execution_count": 0,
      "outputs": []
    }
  ]
}