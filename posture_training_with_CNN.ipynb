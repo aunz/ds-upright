{
  "nbformat": 4,
  "nbformat_minor": 0,
  "metadata": {
    "colab": {
      "name": "posture_training_with_CNN.ipynb",
      "version": "0.3.2",
      "provenance": [],
      "collapsed_sections": [],
      "toc_visible": true
    },
    "kernelspec": {
      "name": "python3",
      "display_name": "Python 3"
    },
    "accelerator": "GPU"
  },
  "cells": [
    {
      "metadata": {
        "id": "PVqso2_nL4Vt",
        "colab_type": "code",
        "colab": {}
      },
      "cell_type": "code",
      "source": [
        "import numpy as np\n",
        "import pandas as pd\n",
        "import matplotlib.pyplot as plt\n",
        "\n",
        "import IPython\n",
        "\n",
        "from keras.models import Sequential\n",
        "from keras.layers import Dense, Activation, Conv2D, SeparableConv2D, MaxPooling2D, AveragePooling2D, GlobalMaxPooling2D, BatchNormalization, Flatten, Dropout, InputLayer\n",
        "from keras.optimizers import Adam, Adamax, RMSprop\n",
        "from keras.callbacks import EarlyStopping, ReduceLROnPlateau\n",
        "from keras.preprocessing.image import ImageDataGenerator"
      ],
      "execution_count": 0,
      "outputs": []
    },
    {
      "metadata": {
        "id": "bxtNQqjLZjUb",
        "colab_type": "text"
      },
      "cell_type": "markdown",
      "source": [
        "## Import data from Google Drive "
      ]
    },
    {
      "metadata": {
        "id": "La7aqegmNq7v",
        "colab_type": "code",
        "colab": {}
      },
      "cell_type": "code",
      "source": [
        "# __import__('google.colab.files', fromlist=[None]).upload() # too slow to upload\n",
        "# __import__('google.colab.drive', fromlist=[None]).mount('/content/gdrive') # mount the entire drive\n",
        "\n",
        "!pip install PyDrive\n",
        "\n",
        "from pydrive.auth import GoogleAuth\n",
        "from pydrive.drive import GoogleDrive\n",
        "from google.colab import auth\n",
        "from oauth2client.client import GoogleCredentials\n",
        "\n",
        "auth.authenticate_user()\n",
        "gauth = GoogleAuth()\n",
        "gauth.credentials = GoogleCredentials.get_application_default()\n",
        "drive = GoogleDrive(gauth)\n",
        "\n",
        "download = drive.CreateFile({'id': '1D7NEp6r4LslueEGRWrTDVE7s_61i2RW3'})\n",
        "download.GetContentFile('data_img.zip')\n",
        "\n",
        "!unzip data_img.zip\n",
        "\n",
        "del auth, gauth, drive, download\n",
        "\n",
        "IPython.display.clear_output()"
      ],
      "execution_count": 0,
      "outputs": []
    },
    {
      "metadata": {
        "id": "ZadLCW7nYvtK",
        "colab_type": "code",
        "colab": {
          "base_uri": "https://localhost:8080/",
          "height": 146
        },
        "outputId": "b69d599d-40aa-4c66-a01c-d02b1b72b796"
      },
      "cell_type": "code",
      "source": [
        ""
      ],
      "execution_count": 3,
      "outputs": [
        {
          "output_type": "stream",
          "text": [
            "total 309M\n",
            "drwxr-xr-x 1 root root 4.0K Jan 28 21:40 .\n",
            "drwxr-xr-x 1 root root 4.0K Jan 28 21:39 ..\n",
            "-rw-r--r-- 1 root root 2.5K Jan 28 21:40 adc.json\n",
            "drwxr-xr-x 1 root root 4.0K Jan 28 21:40 .config\n",
            "-rw-r--r-- 1 root root 309M Jan 28 21:40 data_img.zip\n",
            "drwxr-xr-x 1 root root 4.0K Jan  8 17:15 sample_data\n"
          ],
          "name": "stdout"
        }
      ]
    },
    {
      "metadata": {
        "id": "ujGWLd2wVDvH",
        "colab_type": "code",
        "colab": {}
      },
      "cell_type": "code",
      "source": [
        ""
      ],
      "execution_count": 0,
      "outputs": []
    }
  ]
}